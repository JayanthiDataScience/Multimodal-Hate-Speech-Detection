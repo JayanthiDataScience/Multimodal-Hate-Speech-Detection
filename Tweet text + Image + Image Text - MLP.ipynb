{
 "cells": [
  {
   "cell_type": "code",
   "execution_count": 1,
   "id": "f0192e44",
   "metadata": {},
   "outputs": [],
   "source": [
    "import json\n",
    "\n",
    "# Load the dataset\n",
    "with open(\"C:/Users/ASUS/Desktop/Project/MS_Project/MMHS150K/MMHS150K_GT.json\", 'r') as file:\n",
    "    data = json.load(file)\n",
    "\n"
   ]
  },
  {
   "cell_type": "code",
   "execution_count": 9,
   "id": "7a0d9df0",
   "metadata": {},
   "outputs": [
    {
     "name": "stdout",
     "output_type": "stream",
     "text": [
      "Total combined entries: 59252\n",
      "Sample combined entry: {'tweet_url': 'https://twitter.com/user/status/1023940826882293760', 'labels': [5, 5, 5], 'img_url': 'http://pbs.twimg.com/media/DjXEwMpWsAEerq8.jpg', 'tweet_text': '@meloIigya When you’re slowly becoming retarded https://t.co/F6tbng2Q0A', 'labels_str': ['OtherHate', 'OtherHate', 'OtherHate'], 'img_text': \"İ'M SLOWLY BEC«MİNG RETARpEp!\", 'image_id': '1023940826882293760'}\n"
     ]
    }
   ],
   "source": [
    "import json\n",
    "import os\n",
    "\n",
    "# Load the main JSON data\n",
    "main_json_path = 'C:/Users/ASUS/Desktop/Project/MMHS150K/MMHS150K_GT.json'\n",
    "with open(main_json_path, 'r') as file:\n",
    "    main_data = json.load(file)\n",
    "\n",
    "# Directory of image text JSON files\n",
    "img_txt_dir = 'C:/Users/ASUS/Desktop/Project/MMHS150K/img_txt'\n",
    "\n",
    "combined_data = []\n",
    "\n",
    "# Process each JSON file in the img_txt directory\n",
    "for json_file in os.listdir(img_txt_dir):\n",
    "    # Remove the .json extension to match the main JSON keys\n",
    "    image_id = json_file[:-5]  # Strips off the \".json\" part\n",
    "    \n",
    "    file_path = os.path.join(img_txt_dir, json_file)\n",
    "    if os.path.isfile(file_path):\n",
    "        with open(file_path, 'r') as file:\n",
    "            data = json.load(file)\n",
    "            img_text = data.get('img_text', '').strip()  # Normalize text\n",
    "\n",
    "            # Attempt to match and merge data\n",
    "            if image_id in main_data:\n",
    "                # Get entry details from main_data using image_id\n",
    "                entry = main_data[image_id]\n",
    "                # Append img_text and image_id to this entry\n",
    "                combined_entry = {\n",
    "                    **entry,  # Unpack all existing entry details\n",
    "                    'img_text': img_text,  # Add the image text\n",
    "                    'image_id': image_id  # Include the image_id explicitly\n",
    "                }\n",
    "                combined_data.append(combined_entry)\n",
    "            else:\n",
    "                print(f\"No match found for image ID: {image_id}\")\n",
    "\n",
    "# Output the total number of combined entries and a sample for verification\n",
    "print(f\"Total combined entries: {len(combined_data)}\")\n",
    "if combined_data:\n",
    "    print(\"Sample combined entry:\", combined_data[0])\n"
   ]
  },
  {
   "cell_type": "markdown",
   "id": "aa223f60-75b6-479d-947a-c01ab9a527d5",
   "metadata": {},
   "source": [
    "combined_data"
   ]
  },
  {
   "cell_type": "code",
   "execution_count": 77,
   "id": "60c7ecfb",
   "metadata": {},
   "outputs": [
    {
     "name": "stdout",
     "output_type": "stream",
     "text": [
      "Combined data saved successfully.\n"
     ]
    }
   ],
   "source": [
    "import json\n",
    "\n",
    "# Define the file path where you want to save the combined data\n",
    "save_path = 'C:/Users/ASUS/Desktop/Project/MMHS150K/combined_data.json'\n",
    "\n",
    "# Use 'with' statement to ensure the file is properly closed after writing\n",
    "with open(save_path, 'w', encoding='utf-8') as f:\n",
    "    # json.dump to serialize combined_data to a JSON formatted string and write it to the file\n",
    "    json.dump(combined_data, f, ensure_ascii=False, indent=4)\n",
    "\n",
    "print(\"Combined data saved successfully.\")\n"
   ]
  },
  {
   "cell_type": "code",
   "execution_count": 59,
   "id": "bbdad671",
   "metadata": {},
   "outputs": [],
   "source": [
    "# Assuming `main_data` is a dictionary where keys are image_ids (or tweet_ids) and values are tweet details\n",
    "for image_id, entry in main_data.items():\n",
    "    if image_id not in [item['image_id'] for item in combined_data]:\n",
    "        combined_entry = {**entry, 'img_text': '', 'image_id': image_id}\n",
    "        combined_data.append(combined_entry)\n"
   ]
  },
  {
   "cell_type": "markdown",
   "id": "b1cfb874-79c4-472f-999a-3eab5b6fd989",
   "metadata": {},
   "source": [
    "combined_data[:10]"
   ]
  },
  {
   "cell_type": "code",
   "execution_count": 62,
   "id": "5b3ef9be",
   "metadata": {},
   "outputs": [],
   "source": [
    "# Function to combine classes\n",
    "def combine_classes(original_class):\n",
    "    if original_class in [1, 2, 3, 4, 5]:  \n",
    "        return 1  # Hate Speech\n",
    "    else:\n",
    "        return 0  # Not Hate Speech\n",
    "\n",
    "# Apply the combination of classes to each item in the dataset\n",
    "for tweet_data in combined_data:\n",
    "    original_classes = tweet_data['labels']\n",
    "    combined_classes = [combine_classes(cls) for cls in original_classes]\n",
    "    tweet_data['combined_labels'] = combined_classes\n",
    "    # Assign the descriptive name based on the first combined class label (assuming there's at least one label)\n",
    "    tweet_data['combined_names_str'] = combined_names_mapping.get(combined_classes[0], 'Unknown')\n"
   ]
  },
  {
   "cell_type": "markdown",
   "id": "ba92bf48-c19a-4559-99d6-9f950e5055e8",
   "metadata": {},
   "source": [
    "combined_data"
   ]
  },
  {
   "cell_type": "code",
   "execution_count": 64,
   "id": "845c0af2",
   "metadata": {},
   "outputs": [],
   "source": [
    "# Load training, validation and test IDs\n",
    "id_train0 = open(\"C:/Users/ASUS/Desktop/Project/MS_Project/MMHS150K/splits/train_ids.txt\").read()\n",
    "id_train = id_train0.split()\n",
    "\n",
    "id_val0 = open(\"C:/Users/ASUS/Desktop/Project/MS_Project/MMHS150K/splits/val_ids.txt\").read()\n",
    "id_val = id_val0.split()\n",
    "\n",
    "id_test0 = open(\"C:/Users/ASUS/Desktop/Project/MS_Project/MMHS150K/splits/test_ids.txt\").read()\n",
    "id_test = id_test0.split()"
   ]
  },
  {
   "cell_type": "code",
   "execution_count": 65,
   "id": "651e81fc",
   "metadata": {},
   "outputs": [],
   "source": [
    "# Convert combined_data into a dictionary keyed by 'image_id'\n",
    "data_dict = {item['image_id']: item for item in combined_data}"
   ]
  },
  {
   "cell_type": "code",
   "execution_count": 66,
   "id": "88ea089f",
   "metadata": {},
   "outputs": [],
   "source": [
    "# Create the datasets for each set: training, validation, and test\n",
    "dict_train = {image_id: data_dict[image_id] for image_id in id_train if image_id in data_dict}\n",
    "dict_val = {image_id: data_dict[image_id] for image_id in id_val if image_id in data_dict}\n",
    "dict_test = {image_id: data_dict[image_id] for image_id in id_test if image_id in data_dict}\n"
   ]
  },
  {
   "cell_type": "code",
   "execution_count": 67,
   "id": "07a5c4ca",
   "metadata": {},
   "outputs": [
    {
     "name": "stdout",
     "output_type": "stream",
     "text": [
      "Length: 134823 observations for the train set, 5000 for the validation and 10000 for the test.\n"
     ]
    }
   ],
   "source": [
    "print('Length: %d observations for the train set, %d for the validation and %d for the test.' % \n",
    "      (len(dict_train), len(dict_val), len(dict_test)))"
   ]
  },
  {
   "cell_type": "code",
   "execution_count": 68,
   "id": "14b7eb35",
   "metadata": {},
   "outputs": [
    {
     "data": {
      "image/png": "[encoded data removed]",
      "text/plain": [
       "<Figure size 1000x600 with 1 Axes>"
      ]
     },
     "metadata": {},
     "output_type": "display_data"
    }
   ],
   "source": [
    "import matplotlib.pyplot as plt\n",
    "\n",
    "# Assuming lengths and sets are defined as before\n",
    "lengths = [len(dict_train), len(dict_val), len(dict_test)]\n",
    "sets = ['Training', 'Validation', 'Test']\n",
    "\n",
    "# Create bar plot\n",
    "plt.figure(figsize=(10, 6))\n",
    "bars = plt.bar(sets, lengths, color=['blue', 'orange', 'green'])\n",
    "\n",
    "# Adding title and labels\n",
    "plt.title('Dataset Distribution')\n",
    "plt.xlabel('Dataset')\n",
    "plt.ylabel('Number of Observations')\n",
    "\n",
    "# Annotate each bar with the number of observations\n",
    "for bar in bars:\n",
    "    yval = bar.get_height()\n",
    "    plt.text(bar.get_x() + bar.get_width()/2, yval, int(yval), ha='center', va='bottom')\n",
    "\n",
    "# Display the plot\n",
    "plt.show()\n"
   ]
  },
  {
   "cell_type": "markdown",
   "id": "5f38e5dd-671c-45e6-b60b-cc78522b09da",
   "metadata": {},
   "source": [
    "dict_val"
   ]
  },
  {
   "cell_type": "code",
   "execution_count": 71,
   "id": "c45120fb",
   "metadata": {},
   "outputs": [],
   "source": [
    "\n",
    "import pandas as pd\n",
    "import numpy as np\n",
    "import json\n",
    "\n",
    "from tensorflow.keras.preprocessing.text import Tokenizer\n",
    "from tensorflow.keras.preprocessing.sequence import pad_sequences"
   ]
  },
  {
   "cell_type": "code",
   "execution_count": 72,
   "id": "40162279",
   "metadata": {},
   "outputs": [],
   "source": [
    "def extract_text_and_combined_labels(data_dict):\n",
    "    texts = []\n",
    "    combined_labels_list = []\n",
    "\n",
    "    for tweet_id, tweet_data in data_dict.items():\n",
    "        texts.append(tweet_data['tweet_text'])\n",
    "        combined_labels_list.append(tweet_data['combined_labels'])\n",
    "\n",
    "    return texts, combined_labels_list\n",
    "\n",
    "# Extracting for each dataset\n",
    "text_train, labels3_train = extract_text_and_combined_labels(dict_train)\n",
    "text_val, labels3_val = extract_text_and_combined_labels(dict_val)\n",
    "text_test, labels3_test = extract_text_and_combined_labels(dict_test)\n"
   ]
  },
  {
   "cell_type": "code",
   "execution_count": 73,
   "id": "020bd30c",
   "metadata": {},
   "outputs": [
    {
     "data": {
      "text/plain": [
       "134823"
      ]
     },
     "execution_count": 73,
     "metadata": {},
     "output_type": "execute_result"
    }
   ],
   "source": [
    "len(labels3_train)"
   ]
  },
  {
   "cell_type": "code",
   "execution_count": 74,
   "id": "9cc20301",
   "metadata": {},
   "outputs": [
    {
     "name": "stdout",
     "output_type": "stream",
     "text": [
      "[1 1 1 ... 0 0 0]\n",
      "[0 1]\n"
     ]
    }
   ],
   "source": [
    "import numpy as np\n",
    "from collections import Counter\n",
    "\n",
    "def custom_majority_vote(annotations):\n",
    "    \"\"\"\n",
    "    Determines the majority vote for each data point. In the case of a tie, chooses randomly.\n",
    "    Assumes only 0 and 1 are valid labels.\n",
    "    \n",
    "    Parameters:\n",
    "    annotations (list of list of int): The annotations for each data point.\n",
    "    \n",
    "    Returns:\n",
    "    numpy.ndarray: The majority class for each data point.\n",
    "    \"\"\"\n",
    "    custom_votes = []\n",
    "\n",
    "    for annotation in annotations:\n",
    "        counts = Counter(annotation)\n",
    "        \n",
    "        # If there's an equal number of 0s and 1s, choose the one present in the list first\n",
    "        if counts[0] == counts[1]:\n",
    "            custom_votes.append(annotation[0])\n",
    "        else:\n",
    "            # Choose the majority\n",
    "            max_count = max(counts, key=counts.get)\n",
    "            custom_votes.append(max_count)\n",
    "            \n",
    "    return np.array(custom_votes)\n",
    "\n",
    "# Example usage (assuming labels3_train, labels3_val, and labels3_test are defined elsewhere)\n",
    "labels_train = custom_majority_vote(labels3_train)\n",
    "labels_val = custom_majority_vote(labels3_val)\n",
    "labels_test = custom_majority_vote(labels3_test)\n",
    "\n",
    "print(labels_train)\n",
    "print(np.unique(labels_train))\n"
   ]
  },
  {
   "cell_type": "code",
   "execution_count": 78,
   "id": "590ba381",
   "metadata": {},
   "outputs": [
    {
     "data": {
      "text/plain": [
       "array([1, 1, 1, 1, 1, 1, 1, 1, 1, 1])"
      ]
     },
     "execution_count": 78,
     "metadata": {},
     "output_type": "execute_result"
    }
   ],
   "source": [
    "labels_val[0:10]"
   ]
  },
  {
   "cell_type": "code",
   "execution_count": 26,
   "id": "7f192414",
   "metadata": {},
   "outputs": [],
   "source": [
    "#preprocessing"
   ]
  },
  {
   "cell_type": "code",
   "execution_count": null,
   "id": "d363cc2e-6918-4bbe-bdeb-79812e022fc0",
   "metadata": {},
   "outputs": [],
   "source": [
    "import re\n",
    "from nltk.corpus import stopwords\n",
    "from nltk.stem import PorterStemmer\n",
    "from nltk.tokenize import word_tokenize\n",
    "\n",
    "# You might need to download these resources if you haven't already\n",
    "import nltk\n",
    "nltk.download('punkt')\n",
    "nltk.download('stopwords')\n",
    "\n",
    "stop_words = set(stopwords.words('english'))\n",
    "ps = PorterStemmer()\n",
    "\n",
    "def preprocess_text(text):\n",
    "    # Convert to lowercase\n",
    "    text = text.lower()\n",
    "    # Remove URLs\n",
    "    text = re.sub(r\"http\\S+|www\\S+|https\\S+\", '', text, flags=re.MULTILINE)\n",
    "    # Remove user @ references and '#' from tweet\n",
    "    text = re.sub(r'\\@\\w+|\\#','', text)\n",
    "    # Remove punctuation\n",
    "    text = re.sub(r'[^\\w\\s]', '', text)\n",
    "    # Remove stopwords\n",
    "    text_tokens = word_tokenize(text)\n",
    "    filtered_words = [word for word in text_tokens if word not in stop_words]\n",
    "    \n",
    "    # Stemming\n",
    "    stemmed_words = [ps.stem(w) for w in filtered_words]\n",
    "    \n",
    "    text = \" \".join(stemmed_words)\n",
    "    return text\n",
    "\n",
    "# Apply preprocessing to each dataset\n",
    "def preprocess_data(data_dict):\n",
    "    for key, value in data_dict.items():\n",
    "        value['tweet_text'] = preprocess_text(value['tweet_text'])\n",
    "        value['img_text'] = preprocess_text(value['img_text'])\n",
    "\n",
    "# Preprocess training and validation data\n",
    "preprocess_data(dict_train)\n",
    "preprocess_data(dict_val)\n"
   ]
  },
  {
   "cell_type": "code",
   "execution_count": 79,
   "id": "f14445c3",
   "metadata": {},
   "outputs": [
    {
     "data": {
      "text/plain": [
       "134823"
      ]
     },
     "execution_count": 79,
     "metadata": {},
     "output_type": "execute_result"
    }
   ],
   "source": [
    "len(dict_train)"
   ]
  },
  {
   "cell_type": "code",
   "execution_count": 80,
   "id": "a10237ac",
   "metadata": {},
   "outputs": [],
   "source": [
    "# Extracting for each dataset\n",
    "text_train, labels3_train = extract_text_and_combined_labels(dict_train)\n",
    "text_val, labels3_val = extract_text_and_combined_labels(dict_val)\n",
    "text_test, labels3_test = extract_text_and_combined_labels(dict_test)"
   ]
  },
  {
   "cell_type": "code",
   "execution_count": 81,
   "id": "0ae4f12d",
   "metadata": {},
   "outputs": [
    {
     "name": "stdout",
     "output_type": "stream",
     "text": [
      "Total input of documents for tokenizer: 134823\n"
     ]
    }
   ],
   "source": [
    "# Tokenizer object\n",
    "tokens = Tokenizer()\n",
    "tokens.fit_on_texts(text_train)\n",
    "print('Total input of documents for tokenizer:', tokens.document_count)\n",
    "\n",
    "# Train set\n",
    "# Tokens to number sequences\n",
    "text_encoded_train = tokens.texts_to_sequences(text_train)\n",
    "\n",
    "# Padding to a determined length\n",
    "max_length_tokens = 70 # Maximum characters in tweets is 280, assumption: 70 words (of 4 characters)\n",
    "text_padded_train = pad_sequences(text_encoded_train,\n",
    "                            maxlen = max_length_tokens, \n",
    "                            padding = 'post') # Padding after sequence"
   ]
  },
  {
   "cell_type": "code",
   "execution_count": null,
   "id": "480c1399-96ce-4770-bd49-07d4e85ebcb2",
   "metadata": {},
   "outputs": [],
   "source": [
    "print(\"Before Padding:\")\n",
    "for seq in text_encoded_train:\n",
    "    print(seq)\n",
    "\n",
    "# Apply padding\n",
    "text_padded_train = pad_sequences(text_encoded_train,\n",
    "                                  maxlen=max_length_tokens,\n",
    "                                  padding='post')  # Padding after sequence\n",
    "\n",
    "# Visualize after padding\n",
    "print(\"\\nAfter Padding:\")\n",
    "for seq in text_padded_train:\n",
    "    print(seq)"
   ]
  },
  {
   "cell_type": "code",
   "execution_count": null,
   "id": "153a2eb9-eef4-46ea-8fb4-40eba658706a",
   "metadata": {},
   "outputs": [],
   "source": [
    "import matplotlib.pyplot as plt\n",
    "from tensorflow.keras.preprocessing.sequence import pad_sequences\n",
    "\n",
    "# Assuming text_encoded_train is already defined\n",
    "max_length_tokens = 70  # As previously mentioned\n",
    "\n",
    "# Apply padding\n",
    "text_padded_train = pad_sequences(text_encoded_train, maxlen=max_length_tokens, padding='post')\n",
    "\n",
    "# Calculate the lengths of original and padded sequences\n",
    "original_lengths = [len(seq) for seq in text_encoded_train]\n",
    "padded_lengths = [len(seq) for seq in text_padded_train]\n",
    "\n",
    "# Visualize the distribution of original sequence lengths\n",
    "plt.figure(figsize=(12, 8))\n",
    "plt.subplot(1, 2, 1)  # 1 row, 2 columns, 1st subplot\n",
    "counts_orig, bins_orig, _ = plt.hist(original_lengths, color='skyblue', edgecolor='black')\n",
    "plt.title('Distribution of Original Token Lengths')\n",
    "plt.xlabel('Token Length')\n",
    "plt.ylabel('Frequency')\n",
    "plt.grid(True)\n",
    "\n",
    "# Annotations for the original lengths histogram\n",
    "for i, count in enumerate(counts_orig):\n",
    "    if count > 0:\n",
    "        plt.text(bins_orig[i] + (bins_orig[i+1] - bins_orig[i]) / 2, count, str(int(count)),\n",
    "                 ha='center', va='bottom', fontsize=10, color='black')\n",
    "\n",
    "# Visualize the distribution of padded sequence lengths\n",
    "plt.subplot(1, 2, 2)  # 1 row, 2 columns, 2nd subplot\n",
    "counts_padded, bins_padded, _ = plt.hist(padded_lengths, color='lightgreen', edgecolor='black')\n",
    "plt.title('Distribution of Padded Token Lengths')\n",
    "plt.xlabel('Token Length')\n",
    "plt.ylabel('Frequency')\n",
    "plt.grid(True)\n",
    "\n",
    "# Annotations for the padded lengths histogram\n",
    "for i, count in enumerate(counts_padded):\n",
    "    if count > 0:\n",
    "        plt.text(bins_padded[i] + (bins_padded[i+1] - bins_padded[i]) / 2, count, str(int(count)),\n",
    "                 ha='center', va='bottom', fontsize=10, color='black')\n",
    "\n",
    "plt.tight_layout()\n",
    "plt.show()\n"
   ]
  },
  {
   "cell_type": "code",
   "execution_count": 84,
   "id": "3002e30f",
   "metadata": {},
   "outputs": [],
   "source": [
    "# Validation set\n",
    "# Tokens to number sequences\n",
    "text_encoded_val = tokens.texts_to_sequences(text_val)\n",
    "\n",
    "# Padding to a determined length\n",
    "text_padded_val = pad_sequences(text_encoded_val,\n",
    "                            maxlen = max_length_tokens, \n",
    "                            padding = 'post') # Padding after sequence\n",
    "\n",
    "# Test set\n",
    "# Tokens to number sequences\n",
    "text_encoded_test = tokens.texts_to_sequences(text_test)\n",
    "\n",
    "# Padding to a determined length\n",
    "text_padded_test = pad_sequences(text_encoded_test,\n",
    "                            maxlen = max_length_tokens, \n",
    "                            padding = 'post') # Padding after sequence"
   ]
  },
  {
   "cell_type": "code",
   "execution_count": 34,
   "id": "5f0b2f95",
   "metadata": {},
   "outputs": [],
   "source": [
    "#glove embeddings"
   ]
  },
  {
   "cell_type": "code",
   "execution_count": 85,
   "id": "dd63449c",
   "metadata": {},
   "outputs": [
    {
     "name": "stdout",
     "output_type": "stream",
     "text": [
      "Length of word vectors: 1193514\n"
     ]
    }
   ],
   "source": [
    "# Dictionary for embeddings\n",
    "glove_file_path = \"C:/Users/ASUS/Desktop/Project/MS_Project/glove.twitter.27B/glove.twitter.27B.200d.txt\"\n",
    "embed_length = 200 # From glove.twitter.27B.200d.txt (dimensions)\n",
    "\n",
    "embedding_index = {} # Embedding dictionary\n",
    "with open(glove_file_path, 'r', encoding='utf-8') as file:\n",
    "    for line in file:\n",
    "        temp = line.split()\n",
    "        word = temp[0]\n",
    "        coefs = np.asarray(temp[1:], dtype = np.float32)\n",
    "        embedding_index[word] = coefs # Add word to dictionary with the embedding values\n",
    "\n",
    "print('Length of word vectors:', len(embedding_index))"
   ]
  },
  {
   "cell_type": "code",
   "execution_count": 86,
   "id": "b34a96b3",
   "metadata": {},
   "outputs": [
    {
     "name": "stdout",
     "output_type": "stream",
     "text": [
      "Dimensions of matrix: 46718 rows x 200 columns\n"
     ]
    }
   ],
   "source": [
    "# Weight matrix for training set tokens \n",
    "vocab_length = len(tokens.word_index) + 1  \n",
    "embedding_matrix = np.zeros((vocab_length, embed_length))\n",
    " \n",
    "for word, index in tokens.word_index.items():\n",
    "  # Search for training set's tokens in the embeddings data\n",
    "    embedding_vector = embedding_index.get(word)\n",
    " \n",
    "  # If found, add to matrix\n",
    "    if embedding_vector is not None:\n",
    "        embedding_matrix[index] = embedding_vector\n",
    "\n",
    "#print(embedding_matrix[1])\n",
    "print('Dimensions of matrix: %d rows x %d columns' %\n",
    "      (len(embedding_matrix), len(embedding_matrix[0])))"
   ]
  },
  {
   "cell_type": "code",
   "execution_count": 87,
   "id": "a55820e3",
   "metadata": {},
   "outputs": [],
   "source": [
    "text_padded_train = np.array(text_padded_train, dtype = 'float32')\n",
    "labels_train = np.array(labels_train, dtype = 'float32')\n",
    "\n",
    "text_padded_val = np.array(text_padded_val, dtype = 'float32')\n",
    "labels_val = np.array(labels_val, dtype = 'float32')\n",
    "\n",
    "text_padded_test = np.array(text_padded_test, dtype = 'float32')\n",
    "labels_test = np.array(labels_test, dtype = 'float32')"
   ]
  },
  {
   "cell_type": "code",
   "execution_count": 38,
   "id": "d094f0eb",
   "metadata": {},
   "outputs": [],
   "source": [
    "#model-implemmentation"
   ]
  },
  {
   "cell_type": "code",
   "execution_count": 88,
   "id": "a1887040",
   "metadata": {},
   "outputs": [],
   "source": [
    "\n",
    "from tensorflow.keras.utils import plot_model\n",
    "from sklearn.utils import class_weight"
   ]
  },
  {
   "cell_type": "code",
   "execution_count": 89,
   "id": "d9ac6fef",
   "metadata": {},
   "outputs": [
    {
     "name": "stdout",
     "output_type": "stream",
     "text": [
      "Epoch 1/30\n",
      "2107/2107 [==============================] - ETA: 0s - loss: 0.6153 - accuracy: 0.6942"
     ]
    },
    {
     "name": "stderr",
     "output_type": "stream",
     "text": [
      "C:\\Users\\ASUS\\anaconda3\\Lib\\site-packages\\keras\\src\\engine\\training.py:3103: UserWarning: You are saving your model as an HDF5 file via `model.save()`. This file format is considered legacy. We recommend using instead the native Keras format, e.g. `model.save('my_model.keras')`.\n",
      "  saving_api.save_model(\n"
     ]
    },
    {
     "name": "stdout",
     "output_type": "stream",
     "text": [
      "2107/2107 [==============================] - 200s 94ms/step - loss: 0.6153 - accuracy: 0.6942 - val_loss: 0.6021 - val_accuracy: 0.6884\n",
      "Epoch 2/30\n",
      "2107/2107 [==============================] - 173s 82ms/step - loss: 0.6056 - accuracy: 0.7059 - val_loss: 0.6023 - val_accuracy: 0.6916\n",
      "Epoch 3/30\n",
      "2107/2107 [==============================] - 183s 87ms/step - loss: 0.6000 - accuracy: 0.7093 - val_loss: 0.6011 - val_accuracy: 0.6942\n",
      "Epoch 4/30\n",
      "2107/2107 [==============================] - 177s 84ms/step - loss: 0.5947 - accuracy: 0.7154 - val_loss: 0.6035 - val_accuracy: 0.6892\n",
      "Epoch 5/30\n",
      "2107/2107 [==============================] - 180s 85ms/step - loss: 0.5862 - accuracy: 0.7212 - val_loss: 0.6054 - val_accuracy: 0.6902\n",
      "Epoch 6/30\n",
      "  72/2107 [>.............................] - ETA: 2:47 - loss: 0.5777 - accuracy: 0.7177"
     ]
    },
    {
     "ename": "KeyboardInterrupt",
     "evalue": "",
     "output_type": "error",
     "traceback": [
      "\u001b[1;31m---------------------------------------------------------------------------\u001b[0m",
      "\u001b[1;31mKeyboardInterrupt\u001b[0m                         Traceback (most recent call last)",
      "Cell \u001b[1;32mIn[89], line 45\u001b[0m\n\u001b[0;32m     41\u001b[0m callbacks \u001b[38;5;241m=\u001b[39m [EarlyStopping(monitor\u001b[38;5;241m=\u001b[39m\u001b[38;5;124m'\u001b[39m\u001b[38;5;124mval_loss\u001b[39m\u001b[38;5;124m'\u001b[39m, patience\u001b[38;5;241m=\u001b[39m\u001b[38;5;241m10\u001b[39m, restore_best_weights\u001b[38;5;241m=\u001b[39m\u001b[38;5;28;01mTrue\u001b[39;00m),\n\u001b[0;32m     42\u001b[0m              ModelCheckpoint(filepath\u001b[38;5;241m=\u001b[39m\u001b[38;5;124m'\u001b[39m\u001b[38;5;124mbest_model.h5\u001b[39m\u001b[38;5;124m'\u001b[39m, monitor\u001b[38;5;241m=\u001b[39m\u001b[38;5;124m'\u001b[39m\u001b[38;5;124mval_loss\u001b[39m\u001b[38;5;124m'\u001b[39m, save_best_only\u001b[38;5;241m=\u001b[39m\u001b[38;5;28;01mTrue\u001b[39;00m)]\n\u001b[0;32m     44\u001b[0m \u001b[38;5;66;03m# Training the model\u001b[39;00m\n\u001b[1;32m---> 45\u001b[0m history \u001b[38;5;241m=\u001b[39m model_lstm_binary\u001b[38;5;241m.\u001b[39mfit(text_padded_train, labels_train, batch_size\u001b[38;5;241m=\u001b[39m\u001b[38;5;241m64\u001b[39m, epochs\u001b[38;5;241m=\u001b[39m\u001b[38;5;241m30\u001b[39m,\n\u001b[0;32m     46\u001b[0m                                 validation_data\u001b[38;5;241m=\u001b[39m(text_padded_val, labels_val), shuffle\u001b[38;5;241m=\u001b[39m\u001b[38;5;28;01mTrue\u001b[39;00m,\n\u001b[0;32m     47\u001b[0m                                 class_weight\u001b[38;5;241m=\u001b[39mclass_weight_dict, verbose\u001b[38;5;241m=\u001b[39m\u001b[38;5;241m1\u001b[39m, callbacks\u001b[38;5;241m=\u001b[39mcallbacks)\n",
      "File \u001b[1;32m~\\anaconda3\\Lib\\site-packages\\keras\\src\\utils\\traceback_utils.py:65\u001b[0m, in \u001b[0;36mfilter_traceback.<locals>.error_handler\u001b[1;34m(*args, **kwargs)\u001b[0m\n\u001b[0;32m     63\u001b[0m filtered_tb \u001b[38;5;241m=\u001b[39m \u001b[38;5;28;01mNone\u001b[39;00m\n\u001b[0;32m     64\u001b[0m \u001b[38;5;28;01mtry\u001b[39;00m:\n\u001b[1;32m---> 65\u001b[0m     \u001b[38;5;28;01mreturn\u001b[39;00m fn(\u001b[38;5;241m*\u001b[39margs, \u001b[38;5;241m*\u001b[39m\u001b[38;5;241m*\u001b[39mkwargs)\n\u001b[0;32m     66\u001b[0m \u001b[38;5;28;01mexcept\u001b[39;00m \u001b[38;5;167;01mException\u001b[39;00m \u001b[38;5;28;01mas\u001b[39;00m e:\n\u001b[0;32m     67\u001b[0m     filtered_tb \u001b[38;5;241m=\u001b[39m _process_traceback_frames(e\u001b[38;5;241m.\u001b[39m__traceback__)\n",
      "File \u001b[1;32m~\\anaconda3\\Lib\\site-packages\\keras\\src\\engine\\training.py:1807\u001b[0m, in \u001b[0;36mModel.fit\u001b[1;34m(self, x, y, batch_size, epochs, verbose, callbacks, validation_split, validation_data, shuffle, class_weight, sample_weight, initial_epoch, steps_per_epoch, validation_steps, validation_batch_size, validation_freq, max_queue_size, workers, use_multiprocessing)\u001b[0m\n\u001b[0;32m   1799\u001b[0m \u001b[38;5;28;01mwith\u001b[39;00m tf\u001b[38;5;241m.\u001b[39mprofiler\u001b[38;5;241m.\u001b[39mexperimental\u001b[38;5;241m.\u001b[39mTrace(\n\u001b[0;32m   1800\u001b[0m     \u001b[38;5;124m\"\u001b[39m\u001b[38;5;124mtrain\u001b[39m\u001b[38;5;124m\"\u001b[39m,\n\u001b[0;32m   1801\u001b[0m     epoch_num\u001b[38;5;241m=\u001b[39mepoch,\n\u001b[1;32m   (...)\u001b[0m\n\u001b[0;32m   1804\u001b[0m     _r\u001b[38;5;241m=\u001b[39m\u001b[38;5;241m1\u001b[39m,\n\u001b[0;32m   1805\u001b[0m ):\n\u001b[0;32m   1806\u001b[0m     callbacks\u001b[38;5;241m.\u001b[39mon_train_batch_begin(step)\n\u001b[1;32m-> 1807\u001b[0m     tmp_logs \u001b[38;5;241m=\u001b[39m \u001b[38;5;28mself\u001b[39m\u001b[38;5;241m.\u001b[39mtrain_function(iterator)\n\u001b[0;32m   1808\u001b[0m     \u001b[38;5;28;01mif\u001b[39;00m data_handler\u001b[38;5;241m.\u001b[39mshould_sync:\n\u001b[0;32m   1809\u001b[0m         context\u001b[38;5;241m.\u001b[39masync_wait()\n",
      "File \u001b[1;32m~\\anaconda3\\Lib\\site-packages\\tensorflow\\python\\util\\traceback_utils.py:150\u001b[0m, in \u001b[0;36mfilter_traceback.<locals>.error_handler\u001b[1;34m(*args, **kwargs)\u001b[0m\n\u001b[0;32m    148\u001b[0m filtered_tb \u001b[38;5;241m=\u001b[39m \u001b[38;5;28;01mNone\u001b[39;00m\n\u001b[0;32m    149\u001b[0m \u001b[38;5;28;01mtry\u001b[39;00m:\n\u001b[1;32m--> 150\u001b[0m   \u001b[38;5;28;01mreturn\u001b[39;00m fn(\u001b[38;5;241m*\u001b[39margs, \u001b[38;5;241m*\u001b[39m\u001b[38;5;241m*\u001b[39mkwargs)\n\u001b[0;32m    151\u001b[0m \u001b[38;5;28;01mexcept\u001b[39;00m \u001b[38;5;167;01mException\u001b[39;00m \u001b[38;5;28;01mas\u001b[39;00m e:\n\u001b[0;32m    152\u001b[0m   filtered_tb \u001b[38;5;241m=\u001b[39m _process_traceback_frames(e\u001b[38;5;241m.\u001b[39m__traceback__)\n",
      "File \u001b[1;32m~\\anaconda3\\Lib\\site-packages\\tensorflow\\python\\eager\\polymorphic_function\\polymorphic_function.py:832\u001b[0m, in \u001b[0;36mFunction.__call__\u001b[1;34m(self, *args, **kwds)\u001b[0m\n\u001b[0;32m    829\u001b[0m compiler \u001b[38;5;241m=\u001b[39m \u001b[38;5;124m\"\u001b[39m\u001b[38;5;124mxla\u001b[39m\u001b[38;5;124m\"\u001b[39m \u001b[38;5;28;01mif\u001b[39;00m \u001b[38;5;28mself\u001b[39m\u001b[38;5;241m.\u001b[39m_jit_compile \u001b[38;5;28;01melse\u001b[39;00m \u001b[38;5;124m\"\u001b[39m\u001b[38;5;124mnonXla\u001b[39m\u001b[38;5;124m\"\u001b[39m\n\u001b[0;32m    831\u001b[0m \u001b[38;5;28;01mwith\u001b[39;00m OptionalXlaContext(\u001b[38;5;28mself\u001b[39m\u001b[38;5;241m.\u001b[39m_jit_compile):\n\u001b[1;32m--> 832\u001b[0m   result \u001b[38;5;241m=\u001b[39m \u001b[38;5;28mself\u001b[39m\u001b[38;5;241m.\u001b[39m_call(\u001b[38;5;241m*\u001b[39margs, \u001b[38;5;241m*\u001b[39m\u001b[38;5;241m*\u001b[39mkwds)\n\u001b[0;32m    834\u001b[0m new_tracing_count \u001b[38;5;241m=\u001b[39m \u001b[38;5;28mself\u001b[39m\u001b[38;5;241m.\u001b[39mexperimental_get_tracing_count()\n\u001b[0;32m    835\u001b[0m without_tracing \u001b[38;5;241m=\u001b[39m (tracing_count \u001b[38;5;241m==\u001b[39m new_tracing_count)\n",
      "File \u001b[1;32m~\\anaconda3\\Lib\\site-packages\\tensorflow\\python\\eager\\polymorphic_function\\polymorphic_function.py:868\u001b[0m, in \u001b[0;36mFunction._call\u001b[1;34m(self, *args, **kwds)\u001b[0m\n\u001b[0;32m    865\u001b[0m   \u001b[38;5;28mself\u001b[39m\u001b[38;5;241m.\u001b[39m_lock\u001b[38;5;241m.\u001b[39mrelease()\n\u001b[0;32m    866\u001b[0m   \u001b[38;5;66;03m# In this case we have created variables on the first call, so we run the\u001b[39;00m\n\u001b[0;32m    867\u001b[0m   \u001b[38;5;66;03m# defunned version which is guaranteed to never create variables.\u001b[39;00m\n\u001b[1;32m--> 868\u001b[0m   \u001b[38;5;28;01mreturn\u001b[39;00m tracing_compilation\u001b[38;5;241m.\u001b[39mcall_function(\n\u001b[0;32m    869\u001b[0m       args, kwds, \u001b[38;5;28mself\u001b[39m\u001b[38;5;241m.\u001b[39m_no_variable_creation_config\n\u001b[0;32m    870\u001b[0m   )\n\u001b[0;32m    871\u001b[0m \u001b[38;5;28;01melif\u001b[39;00m \u001b[38;5;28mself\u001b[39m\u001b[38;5;241m.\u001b[39m_variable_creation_config \u001b[38;5;129;01mis\u001b[39;00m \u001b[38;5;129;01mnot\u001b[39;00m \u001b[38;5;28;01mNone\u001b[39;00m:\n\u001b[0;32m    872\u001b[0m   \u001b[38;5;66;03m# Release the lock early so that multiple threads can perform the call\u001b[39;00m\n\u001b[0;32m    873\u001b[0m   \u001b[38;5;66;03m# in parallel.\u001b[39;00m\n\u001b[0;32m    874\u001b[0m   \u001b[38;5;28mself\u001b[39m\u001b[38;5;241m.\u001b[39m_lock\u001b[38;5;241m.\u001b[39mrelease()\n",
      "File \u001b[1;32m~\\anaconda3\\Lib\\site-packages\\tensorflow\\python\\eager\\polymorphic_function\\tracing_compilation.py:139\u001b[0m, in \u001b[0;36mcall_function\u001b[1;34m(args, kwargs, tracing_options)\u001b[0m\n\u001b[0;32m    137\u001b[0m bound_args \u001b[38;5;241m=\u001b[39m function\u001b[38;5;241m.\u001b[39mfunction_type\u001b[38;5;241m.\u001b[39mbind(\u001b[38;5;241m*\u001b[39margs, \u001b[38;5;241m*\u001b[39m\u001b[38;5;241m*\u001b[39mkwargs)\n\u001b[0;32m    138\u001b[0m flat_inputs \u001b[38;5;241m=\u001b[39m function\u001b[38;5;241m.\u001b[39mfunction_type\u001b[38;5;241m.\u001b[39munpack_inputs(bound_args)\n\u001b[1;32m--> 139\u001b[0m \u001b[38;5;28;01mreturn\u001b[39;00m function\u001b[38;5;241m.\u001b[39m_call_flat(  \u001b[38;5;66;03m# pylint: disable=protected-access\u001b[39;00m\n\u001b[0;32m    140\u001b[0m     flat_inputs, captured_inputs\u001b[38;5;241m=\u001b[39mfunction\u001b[38;5;241m.\u001b[39mcaptured_inputs\n\u001b[0;32m    141\u001b[0m )\n",
      "File \u001b[1;32m~\\anaconda3\\Lib\\site-packages\\tensorflow\\python\\eager\\polymorphic_function\\concrete_function.py:1323\u001b[0m, in \u001b[0;36mConcreteFunction._call_flat\u001b[1;34m(self, tensor_inputs, captured_inputs)\u001b[0m\n\u001b[0;32m   1319\u001b[0m possible_gradient_type \u001b[38;5;241m=\u001b[39m gradients_util\u001b[38;5;241m.\u001b[39mPossibleTapeGradientTypes(args)\n\u001b[0;32m   1320\u001b[0m \u001b[38;5;28;01mif\u001b[39;00m (possible_gradient_type \u001b[38;5;241m==\u001b[39m gradients_util\u001b[38;5;241m.\u001b[39mPOSSIBLE_GRADIENT_TYPES_NONE\n\u001b[0;32m   1321\u001b[0m     \u001b[38;5;129;01mand\u001b[39;00m executing_eagerly):\n\u001b[0;32m   1322\u001b[0m   \u001b[38;5;66;03m# No tape is watching; skip to running the function.\u001b[39;00m\n\u001b[1;32m-> 1323\u001b[0m   \u001b[38;5;28;01mreturn\u001b[39;00m \u001b[38;5;28mself\u001b[39m\u001b[38;5;241m.\u001b[39m_inference_function\u001b[38;5;241m.\u001b[39mcall_preflattened(args)\n\u001b[0;32m   1324\u001b[0m forward_backward \u001b[38;5;241m=\u001b[39m \u001b[38;5;28mself\u001b[39m\u001b[38;5;241m.\u001b[39m_select_forward_and_backward_functions(\n\u001b[0;32m   1325\u001b[0m     args,\n\u001b[0;32m   1326\u001b[0m     possible_gradient_type,\n\u001b[0;32m   1327\u001b[0m     executing_eagerly)\n\u001b[0;32m   1328\u001b[0m forward_function, args_with_tangents \u001b[38;5;241m=\u001b[39m forward_backward\u001b[38;5;241m.\u001b[39mforward()\n",
      "File \u001b[1;32m~\\anaconda3\\Lib\\site-packages\\tensorflow\\python\\eager\\polymorphic_function\\atomic_function.py:216\u001b[0m, in \u001b[0;36mAtomicFunction.call_preflattened\u001b[1;34m(self, args)\u001b[0m\n\u001b[0;32m    214\u001b[0m \u001b[38;5;28;01mdef\u001b[39;00m \u001b[38;5;21mcall_preflattened\u001b[39m(\u001b[38;5;28mself\u001b[39m, args: Sequence[core\u001b[38;5;241m.\u001b[39mTensor]) \u001b[38;5;241m-\u001b[39m\u001b[38;5;241m>\u001b[39m Any:\n\u001b[0;32m    215\u001b[0m \u001b[38;5;250m  \u001b[39m\u001b[38;5;124;03m\"\"\"Calls with flattened tensor inputs and returns the structured output.\"\"\"\u001b[39;00m\n\u001b[1;32m--> 216\u001b[0m   flat_outputs \u001b[38;5;241m=\u001b[39m \u001b[38;5;28mself\u001b[39m\u001b[38;5;241m.\u001b[39mcall_flat(\u001b[38;5;241m*\u001b[39margs)\n\u001b[0;32m    217\u001b[0m   \u001b[38;5;28;01mreturn\u001b[39;00m \u001b[38;5;28mself\u001b[39m\u001b[38;5;241m.\u001b[39mfunction_type\u001b[38;5;241m.\u001b[39mpack_output(flat_outputs)\n",
      "File \u001b[1;32m~\\anaconda3\\Lib\\site-packages\\tensorflow\\python\\eager\\polymorphic_function\\atomic_function.py:251\u001b[0m, in \u001b[0;36mAtomicFunction.call_flat\u001b[1;34m(self, *args)\u001b[0m\n\u001b[0;32m    249\u001b[0m \u001b[38;5;28;01mwith\u001b[39;00m record\u001b[38;5;241m.\u001b[39mstop_recording():\n\u001b[0;32m    250\u001b[0m   \u001b[38;5;28;01mif\u001b[39;00m \u001b[38;5;28mself\u001b[39m\u001b[38;5;241m.\u001b[39m_bound_context\u001b[38;5;241m.\u001b[39mexecuting_eagerly():\n\u001b[1;32m--> 251\u001b[0m     outputs \u001b[38;5;241m=\u001b[39m \u001b[38;5;28mself\u001b[39m\u001b[38;5;241m.\u001b[39m_bound_context\u001b[38;5;241m.\u001b[39mcall_function(\n\u001b[0;32m    252\u001b[0m         \u001b[38;5;28mself\u001b[39m\u001b[38;5;241m.\u001b[39mname,\n\u001b[0;32m    253\u001b[0m         \u001b[38;5;28mlist\u001b[39m(args),\n\u001b[0;32m    254\u001b[0m         \u001b[38;5;28mlen\u001b[39m(\u001b[38;5;28mself\u001b[39m\u001b[38;5;241m.\u001b[39mfunction_type\u001b[38;5;241m.\u001b[39mflat_outputs),\n\u001b[0;32m    255\u001b[0m     )\n\u001b[0;32m    256\u001b[0m   \u001b[38;5;28;01melse\u001b[39;00m:\n\u001b[0;32m    257\u001b[0m     outputs \u001b[38;5;241m=\u001b[39m make_call_op_in_graph(\n\u001b[0;32m    258\u001b[0m         \u001b[38;5;28mself\u001b[39m,\n\u001b[0;32m    259\u001b[0m         \u001b[38;5;28mlist\u001b[39m(args),\n\u001b[0;32m    260\u001b[0m         \u001b[38;5;28mself\u001b[39m\u001b[38;5;241m.\u001b[39m_bound_context\u001b[38;5;241m.\u001b[39mfunction_call_options\u001b[38;5;241m.\u001b[39mas_attrs(),\n\u001b[0;32m    261\u001b[0m     )\n",
      "File \u001b[1;32m~\\anaconda3\\Lib\\site-packages\\tensorflow\\python\\eager\\context.py:1486\u001b[0m, in \u001b[0;36mContext.call_function\u001b[1;34m(self, name, tensor_inputs, num_outputs)\u001b[0m\n\u001b[0;32m   1484\u001b[0m cancellation_context \u001b[38;5;241m=\u001b[39m cancellation\u001b[38;5;241m.\u001b[39mcontext()\n\u001b[0;32m   1485\u001b[0m \u001b[38;5;28;01mif\u001b[39;00m cancellation_context \u001b[38;5;129;01mis\u001b[39;00m \u001b[38;5;28;01mNone\u001b[39;00m:\n\u001b[1;32m-> 1486\u001b[0m   outputs \u001b[38;5;241m=\u001b[39m execute\u001b[38;5;241m.\u001b[39mexecute(\n\u001b[0;32m   1487\u001b[0m       name\u001b[38;5;241m.\u001b[39mdecode(\u001b[38;5;124m\"\u001b[39m\u001b[38;5;124mutf-8\u001b[39m\u001b[38;5;124m\"\u001b[39m),\n\u001b[0;32m   1488\u001b[0m       num_outputs\u001b[38;5;241m=\u001b[39mnum_outputs,\n\u001b[0;32m   1489\u001b[0m       inputs\u001b[38;5;241m=\u001b[39mtensor_inputs,\n\u001b[0;32m   1490\u001b[0m       attrs\u001b[38;5;241m=\u001b[39mattrs,\n\u001b[0;32m   1491\u001b[0m       ctx\u001b[38;5;241m=\u001b[39m\u001b[38;5;28mself\u001b[39m,\n\u001b[0;32m   1492\u001b[0m   )\n\u001b[0;32m   1493\u001b[0m \u001b[38;5;28;01melse\u001b[39;00m:\n\u001b[0;32m   1494\u001b[0m   outputs \u001b[38;5;241m=\u001b[39m execute\u001b[38;5;241m.\u001b[39mexecute_with_cancellation(\n\u001b[0;32m   1495\u001b[0m       name\u001b[38;5;241m.\u001b[39mdecode(\u001b[38;5;124m\"\u001b[39m\u001b[38;5;124mutf-8\u001b[39m\u001b[38;5;124m\"\u001b[39m),\n\u001b[0;32m   1496\u001b[0m       num_outputs\u001b[38;5;241m=\u001b[39mnum_outputs,\n\u001b[1;32m   (...)\u001b[0m\n\u001b[0;32m   1500\u001b[0m       cancellation_manager\u001b[38;5;241m=\u001b[39mcancellation_context,\n\u001b[0;32m   1501\u001b[0m   )\n",
      "File \u001b[1;32m~\\anaconda3\\Lib\\site-packages\\tensorflow\\python\\eager\\execute.py:53\u001b[0m, in \u001b[0;36mquick_execute\u001b[1;34m(op_name, num_outputs, inputs, attrs, ctx, name)\u001b[0m\n\u001b[0;32m     51\u001b[0m \u001b[38;5;28;01mtry\u001b[39;00m:\n\u001b[0;32m     52\u001b[0m   ctx\u001b[38;5;241m.\u001b[39mensure_initialized()\n\u001b[1;32m---> 53\u001b[0m   tensors \u001b[38;5;241m=\u001b[39m pywrap_tfe\u001b[38;5;241m.\u001b[39mTFE_Py_Execute(ctx\u001b[38;5;241m.\u001b[39m_handle, device_name, op_name,\n\u001b[0;32m     54\u001b[0m                                       inputs, attrs, num_outputs)\n\u001b[0;32m     55\u001b[0m \u001b[38;5;28;01mexcept\u001b[39;00m core\u001b[38;5;241m.\u001b[39m_NotOkStatusException \u001b[38;5;28;01mas\u001b[39;00m e:\n\u001b[0;32m     56\u001b[0m   \u001b[38;5;28;01mif\u001b[39;00m name \u001b[38;5;129;01mis\u001b[39;00m \u001b[38;5;129;01mnot\u001b[39;00m \u001b[38;5;28;01mNone\u001b[39;00m:\n",
      "\u001b[1;31mKeyboardInterrupt\u001b[0m: "
     ]
    }
   ],
   "source": [
    "from keras.models import Sequential\n",
    "from keras.layers import Embedding, LSTM, Dense, Dropout, BatchNormalization, Bidirectional\n",
    "from keras.initializers import Constant\n",
    "from keras.optimizers import Adam\n",
    "from keras.callbacks import EarlyStopping, ModelCheckpoint\n",
    "import numpy as np\n",
    "\n",
    "def model_LSTM_binary(units_lstm, vocab_len, embed_len, max_len_tok, embed_mat, bi):\n",
    "    model = Sequential()\n",
    "    model.add(Embedding(input_dim=vocab_len, output_dim=embed_len, input_length=max_len_tok,\n",
    "                        embeddings_initializer=Constant(embed_mat), trainable=False))\n",
    "    if bi:\n",
    "        model.add(Bidirectional(LSTM(units_lstm, return_sequences=False)))  # `return_sequences=False` to return the last state\n",
    "    else:\n",
    "        model.add(LSTM(units_lstm, return_sequences=False))  # Adjust units_lstm to 150 for 150-dimensional output\n",
    "    model.add(Dropout(0.5))\n",
    "    model.add(Dense(1, activation='sigmoid'))  # Change for binary classification\n",
    "    model.compile(optimizer=Adam(learning_rate=0.001), loss='binary_crossentropy', metrics=['accuracy'])\n",
    "    return model\n",
    "\n",
    "num_classes = len(np.unique(labels_train))\n",
    "# Model parameters\n",
    "units_lstm = 150  # For 150-dimensional vector output from LSTM\n",
    "vocab_len = vocab_length  # Adjust as per your vocabulary size\n",
    "embed_len = embed_length  # Assuming using 200-dimensional GloVe embeddings\n",
    "max_len_tok = max_length_tokens  # Maximum length of a tokenized tweet\n",
    "embed_mat = embedding_matrix  # Placeholder for actual GloVe embeddings\n",
    "\n",
    "# Create binary classification model\n",
    "model_lstm_binary = model_LSTM_binary(units_lstm, vocab_len, embed_len, max_len_tok, embed_mat, bi=True,)\n",
    "\n",
    "# Assuming 'labels_train' is binary encoded, 'text_padded_train', 'text_padded_val', and 'labels_val' are defined\n",
    "from sklearn.utils.class_weight import compute_class_weight\n",
    "\n",
    "# Compute class weights for binary classification\n",
    "classes = np.unique(labels_train)\n",
    "class_weights_arr = compute_class_weight(class_weight='balanced', classes=classes, y=labels_train)\n",
    "class_weight_dict = {classes[i]: weight for i, weight in enumerate(class_weights_arr)}\n",
    "\n",
    "# Callbacks\n",
    "callbacks = [EarlyStopping(monitor='val_loss', patience=10, restore_best_weights=True),\n",
    "             ModelCheckpoint(filepath='best_model.h5', monitor='val_loss', save_best_only=True)]\n",
    "\n",
    "# Training the model\n",
    "history = model_lstm_binary.fit(text_padded_train, labels_train, batch_size=64, epochs=30,\n",
    "                                validation_data=(text_padded_val, labels_val), shuffle=True,\n",
    "                                class_weight=class_weight_dict, verbose=1, callbacks=callbacks)\n"
   ]
  },
  {
   "cell_type": "code",
   "execution_count": 90,
   "id": "5ae249e8",
   "metadata": {},
   "outputs": [
    {
     "name": "stdout",
     "output_type": "stream",
     "text": [
      "157/157 [==============================] - 3s 17ms/step\n"
     ]
    },
    {
     "data": {
      "image/png": "[encoded data removed]",
      "text/plain": [
       "<Figure size 640x480 with 1 Axes>"
      ]
     },
     "metadata": {},
     "output_type": "display_data"
    }
   ],
   "source": [
    "import matplotlib.pyplot as plt\n",
    "from sklearn.metrics import roc_curve, auc\n",
    "\n",
    "# Predict probabilities for the positive class\n",
    "y_pred_proba = model_lstm_binary.predict(text_padded_val)\n",
    "\n",
    "# Calculate ROC Curve and AUC\n",
    "fpr, tpr, thresholds = roc_curve(labels_val, y_pred_proba)\n",
    "roc_auc = auc(fpr, tpr)\n",
    "\n",
    "# Plot ROC Curve\n",
    "plt.figure()\n",
    "plt.plot(fpr, tpr, color='darkorange', lw=2, label='ROC curve (area = %0.2f)' % roc_auc)\n",
    "plt.plot([0, 1], [0, 1], color='navy', lw=2, linestyle='--')\n",
    "plt.xlim([0.0, 1.0])\n",
    "plt.ylim([0.0, 1.05])\n",
    "plt.xlabel('False Positive Rate')\n",
    "plt.ylabel('True Positive Rate')\n",
    "plt.title('Receiver Operating Characteristic')\n",
    "plt.legend(loc=\"lower right\")\n",
    "plt.show()\n"
   ]
  },
  {
   "cell_type": "code",
   "execution_count": 91,
   "id": "a486d3f1",
   "metadata": {},
   "outputs": [
    {
     "name": "stdout",
     "output_type": "stream",
     "text": [
      "4214/4214 [==============================] - 62s 15ms/step\n",
      "157/157 [==============================] - 2s 13ms/step\n",
      "313/313 [==============================] - 4s 12ms/step\n"
     ]
    }
   ],
   "source": [
    "from keras.models import Model\n",
    "\n",
    "# Assuming `model_lstm_binary` is your trained model and you want to extract the LSTM features\n",
    "lstm_output_layer = model_lstm_binary.layers[-3]  # Assuming this is your LSTM or Bidirectional LSTM layer\n",
    "feature_extractor = Model(inputs=model_lstm_binary.input, outputs=lstm_output_layer.output)\n",
    "\n",
    "# To extract features for your training, validation, or test set:\n",
    "lstm_features_train = feature_extractor.predict(text_padded_train)  # Example for training set\n",
    "lstm_features_val = feature_extractor.predict(text_padded_val)\n",
    "lstm_features_test = feature_extractor.predict(text_padded_test)"
   ]
  },
  {
   "cell_type": "code",
   "execution_count": 92,
   "id": "89cbc807",
   "metadata": {},
   "outputs": [
    {
     "name": "stdout",
     "output_type": "stream",
     "text": [
      "LSTM features saved successfully.\n"
     ]
    }
   ],
   "source": [
    "# Save LSTM features for training set\n",
    "np.save(\"C:/Users/ASUS/Desktop/Project/ImageTextFeatures/imageText_train_lstm_features.npy\", lstm_features_train)\n",
    "\n",
    "# Save LSTM features for validation set\n",
    "np.save(\"C:/Users/ASUS/Desktop/Project/ImageTextFeatures/imageText_val_lstm_features.npy\", lstm_features_val)\n",
    "\n",
    "# Save LSTM features for test set\n",
    "np.save(\"C:/Users/ASUS/Desktop/Project/ImageTextFeatures/imageText_test_lstm_features.npy\", lstm_features_test)\n",
    "\n",
    "print(\"LSTM features saved successfully.\")\n"
   ]
  },
  {
   "cell_type": "code",
   "execution_count": 2,
   "id": "b3db06f5",
   "metadata": {},
   "outputs": [],
   "source": [
    "import numpy as np\n",
    "lstm_features_train_path = \"C:/Users/ASUS/Desktop/Project/ImageTextFeatures/imageText_train_lstm_features.npy\"\n",
    "lstm_features_val_path = \"C:/Users/ASUS/Desktop/Project/ImageTextFeatures/imageText_val_lstm_features.npy\"\n",
    "lstm_features_test_path = \"C:/Users/ASUS/Desktop/Project/ImageTextFeatures/imageText_test_lstm_features.npy\"\n",
    "\n",
    "\n",
    "lstm_features_train= np.load(lstm_features_train_path)\n",
    "lstm_features_val= np.load(lstm_features_val_path)\n",
    "lstm_features_test= np.load(lstm_features_test_path)"
   ]
  },
  {
   "cell_type": "code",
   "execution_count": 3,
   "id": "cbb50ec6",
   "metadata": {},
   "outputs": [],
   "source": [
    "#tweet text + image text + image - unimodal"
   ]
  },
  {
   "cell_type": "code",
   "execution_count": 4,
   "id": "55cf4fa8",
   "metadata": {},
   "outputs": [
    {
     "name": "stdout",
     "output_type": "stream",
     "text": [
      "Training features shape: (134823, 2048)\n"
     ]
    }
   ],
   "source": [
    "#loading image features\n",
    "import numpy as np\n",
    "\n",
    "# Paths to the .npy files\n",
    "training_features_path = r\"C:\\Users\\ASUS\\Desktop\\Project\\Features\\train_features_combined (1).npy\"\n",
    "training_labels_path = r\"C:\\Users\\ASUS\\Desktop\\Project\\Features\\train_labels_combined.npy\"\n",
    "validation_features_path = r\"C:\\Users\\ASUS\\Desktop\\Project\\Features\\val_features_combined.npy\"\n",
    "validation_labels_path = r\"C:\\Users\\ASUS\\Desktop\\Project\\Features\\val_labels_combined.npy\"\n",
    "\n",
    "# Loading the training features and labels\n",
    "training_features = np.load(training_features_path)\n",
    "training_labels = np.load(training_labels_path)\n",
    "\n",
    "# Loading the validation features and labels\n",
    "validation_features = np.load(validation_features_path)\n",
    "validation_labels = np.load(validation_labels_path)\n",
    "\n",
    "# Print out the shapes to confirm\n",
    "print(f\"Training features shape: {training_features.shape}\")\n"
   ]
  },
  {
   "cell_type": "code",
   "execution_count": 5,
   "id": "1abd5715",
   "metadata": {},
   "outputs": [
    {
     "name": "stdout",
     "output_type": "stream",
     "text": [
      "WARNING:tensorflow:From C:\\Users\\ASUS\\anaconda3\\Lib\\site-packages\\keras\\src\\losses.py:2976: The name tf.losses.sparse_softmax_cross_entropy is deprecated. Please use tf.compat.v1.losses.sparse_softmax_cross_entropy instead.\n",
      "\n"
     ]
    }
   ],
   "source": [
    "from keras.utils import to_categorical\n",
    "# Assuming training_labels and validation_labels are in one-hot encoded format\n",
    "# Convert one-hot encoded labels to binary classification format (0: non-hate speech, 1: hate speech)\n",
    "\n",
    "# For training labels\n",
    "binary_training_labels = np.argmax(training_labels, axis=1) > 0\n",
    "binary_training_labels = binary_training_labels.astype(int)\n",
    "\n",
    "# For validation labels\n",
    "binary_validation_labels = np.argmax(validation_labels, axis=1) > 0\n",
    "binary_validation_labels = binary_validation_labels.astype(int)\n",
    "\n",
    "# Convert labels back to one-hot encoding for use with categorical_crossentropy\n",
    "binary_training_labels = to_categorical(binary_training_labels, num_classes=2)\n",
    "binary_validation_labels = to_categorical(binary_validation_labels, num_classes=2)\n"
   ]
  },
  {
   "cell_type": "code",
   "execution_count": 6,
   "id": "3a9d0f8a",
   "metadata": {},
   "outputs": [],
   "source": [
    "#Loading tweet text features\n",
    "\n",
    "\n",
    "text_training_features_path = r\"C:\\Users\\ASUS\\Desktop\\Project\\TextFeatures\\train_lstm_features.npy\"\n",
    "text_validation_features_path = r\"C:\\Users\\ASUS\\Desktop\\Project\\TextFeatures\\val_lstm_features.npy\"\n",
    "text_test_features_path = r\"C:\\Users\\ASUS\\Desktop\\Project\\TextFeatures\\test_lstm_features.npy\"\n",
    "\n",
    "text_training_features = np.load(text_training_features_path)\n",
    "text_validation_features = np.load(text_validation_features_path)\n",
    "text_test_features = np.load(text_test_features_path)"
   ]
  },
  {
   "cell_type": "code",
   "execution_count": 7,
   "id": "78b418d6",
   "metadata": {},
   "outputs": [
    {
     "data": {
      "text/plain": [
       "(10000, 300)"
      ]
     },
     "execution_count": 7,
     "metadata": {},
     "output_type": "execute_result"
    }
   ],
   "source": [
    "text_test_features.shape"
   ]
  },
  {
   "cell_type": "code",
   "execution_count": 8,
   "id": "8c282d29",
   "metadata": {},
   "outputs": [
    {
     "data": {
      "text/plain": [
       "(134823, 300)"
      ]
     },
     "execution_count": 8,
     "metadata": {},
     "output_type": "execute_result"
    }
   ],
   "source": [
    "lstm_features_train.shape"
   ]
  },
  {
   "cell_type": "code",
   "execution_count": 52,
   "id": "72d0cd4f",
   "metadata": {},
   "outputs": [],
   "source": [
    "#combining features"
   ]
  },
  {
   "cell_type": "code",
   "execution_count": 9,
   "id": "9fd49dc9",
   "metadata": {},
   "outputs": [],
   "source": [
    "#normalizing:\n",
    "import numpy as np\n",
    "from sklearn.preprocessing import StandardScaler\n",
    "\n",
    "# Initialize scalers for each feature type\n",
    "scaler_lstm = StandardScaler()\n",
    "scaler_training = StandardScaler()\n",
    "scaler_text = StandardScaler()\n",
    "\n",
    "# Normalize training data\n",
    "lstm_features_train_normalized = scaler_lstm.fit_transform(lstm_features_train)\n",
    "training_features_normalized = scaler_training.fit_transform(training_features)\n",
    "text_training_features_normalized = scaler_text.fit_transform(text_training_features)\n",
    "\n",
    "# Combine normalized training data\n",
    "training_data_combined = np.hstack((lstm_features_train_normalized, training_features_normalized, text_training_features_normalized))\n",
    "\n",
    "# Normalize validation data (using the same scaler fitted to the training data)\n",
    "lstm_features_val_normalized = scaler_lstm.transform(lstm_features_val)\n",
    "validation_features_normalized = scaler_training.transform(validation_features)\n",
    "text_validation_features_normalized = scaler_text.transform(text_validation_features)\n",
    "\n",
    "# Combine normalized validation data\n",
    "validation_data_combined = np.hstack((lstm_features_val_normalized, validation_features_normalized, text_validation_features_normalized))\n"
   ]
  },
  {
   "cell_type": "code",
   "execution_count": 98,
   "id": "e13f471d",
   "metadata": {},
   "outputs": [],
   "source": [
    "# Combine text features with binary labels for training set\n",
    "training_data_combined = np.hstack((lstm_features_train, training_features,   text_training_features))\n",
    "\n",
    "# Combine text features with binary labels for validation set\n",
    "validation_data_combined = np.hstack((lstm_features_val, validation_features, text_validation_features))\n"
   ]
  },
  {
   "cell_type": "code",
   "execution_count": 10,
   "id": "25e288f3",
   "metadata": {},
   "outputs": [
    {
     "data": {
      "text/plain": [
       "(134823, 2648)"
      ]
     },
     "execution_count": 10,
     "metadata": {},
     "output_type": "execute_result"
    }
   ],
   "source": [
    "training_data_combined.shape\n"
   ]
  },
  {
   "cell_type": "code",
   "execution_count": 11,
   "id": "00ab960e",
   "metadata": {},
   "outputs": [
    {
     "data": {
      "text/plain": [
       "(5000, 2648)"
      ]
     },
     "execution_count": 11,
     "metadata": {},
     "output_type": "execute_result"
    }
   ],
   "source": [
    "validation_data_combined.shape"
   ]
  },
  {
   "cell_type": "code",
   "execution_count": null,
   "id": "c96e0ad7-a94e-4fe1-b8ca-058bb892461e",
   "metadata": {},
   "outputs": [],
   "source": [
    "from tensorflow.keras.models import Sequential\n",
    "from tensorflow.keras.layers import Dense, BatchNormalization, Dropout, LSTM\n",
    "from tensorflow.keras.optimizers import Adam\n",
    "from tensorflow.keras.metrics import AUC\n",
    "from tensorflow.keras.callbacks import EarlyStopping, ReduceLROnPlateau\n",
    "from tensorflow.keras.regularizers import l2\n",
    "from sklearn.utils.class_weight import compute_class_weight\n",
    "import numpy as np\n",
    "\n",
    "# Assuming training_data_combined and validation_data_combined \n",
    "# have been reshaped appropriately for LSTM input, if applicable\n",
    "\n",
    "# Model definition\n",
    "model = Sequential([\n",
    "    LSTM(128, input_shape=(2648, 1), return_sequences=True, kernel_regularizer=l2(0.001)),\n",
    "    BatchNormalization(),\n",
    "    Dropout(0.5),\n",
    "    LSTM(64, return_sequences=False, kernel_regularizer=l2(0.001)),\n",
    "    BatchNormalization(),\n",
    "    Dropout(0.5),\n",
    "    Dense(1024, activation='relu', kernel_regularizer=l2(0.001)),\n",
    "    BatchNormalization(),\n",
    "    Dropout(0.5),\n",
    "    Dense(512, activation='relu', kernel_regularizer=l2(0.001)),\n",
    "    BatchNormalization(),\n",
    "    Dropout(0.5),\n",
    "    Dense(1, activation='sigmoid')\n",
    "])\n",
    "\n",
    "# Model compilation\n",
    "model.compile(optimizer=Adam(learning_rate=0.001),\n",
    "              loss='binary_crossentropy',\n",
    "              metrics=['accuracy', AUC(name='auc')])\n",
    "\n",
    "# Ensure binary_training_labels is a 1D array of binary labels (0s and 1s)\n",
    "binary_training_labels = binary_training_labels.ravel()\n",
    "\n",
    "# Ensure binary_validation_labels is a 1D array of binary labels (0s and 1s)\n",
    "binary_validation_labels = binary_validation_labels.ravel()\n",
    "\n",
    "# Compute class weights\n",
    "class_weights = compute_class_weight('balanced',\n",
    "                                     classes=np.unique(binary_training_labels),\n",
    "                                     y=binary_training_labels)\n",
    "class_weight_dict = dict(enumerate(class_weights))\n",
    "\n",
    "# Callbacks definition\n",
    "early_stopping = EarlyStopping(monitor='val_auc', mode='max', patience=10, restore_best_weights=True)\n",
    "reduce_lr = ReduceLROnPlateau(monitor='val_auc', mode='max', factor=0.2, patience=5, min_lr=0.0001)\n",
    "\n",
    "# Model training\n",
    "history = model.fit(training_data_combined,\n",
    "                    binary_training_labels,\n",
    "                    validation_data=(validation_data_combined, binary_validation_labels),\n",
    "                    epochs=30,\n",
    "                    batch_size=64,\n",
    "                    callbacks=[early_stopping, reduce_lr],\n",
    "                    class_weight=class_weight_dict)\n"
   ]
  },
  {
   "cell_type": "code",
   "execution_count": 13,
   "id": "15125c95",
   "metadata": {},
   "outputs": [
    {
     "name": "stdout",
     "output_type": "stream",
     "text": [
      "157/157 [==============================] - 0s 2ms/step\n",
      "Precision: 0.66804788213628\n",
      "Recall: 0.5804\n",
      "F1 Score: 0.6211472602739726\n"
     ]
    }
   ],
   "source": [
    "from sklearn.metrics import precision_score, recall_score, f1_score\n",
    "import numpy as np\n",
    "\n",
    "# Get predictions for your validation set\n",
    "predictions_probs = model.predict(validation_data_combined)\n",
    "\n",
    "# Threshold probabilities to convert to binary labels\n",
    "predictions_labels = (predictions_probs > 0.5).astype(int).flatten()\n",
    "\n",
    "# Assuming binary_validation_labels are already in binary format (no need for np.argmax)\n",
    "validation_labels_single = binary_validation_labels\n",
    "\n",
    "# Calculate precision, recall, and F1 score\n",
    "precision = precision_score(validation_labels_single, predictions_labels)\n",
    "recall = recall_score(validation_labels_single, predictions_labels)\n",
    "f1 = f1_score(validation_labels_single, predictions_labels)\n",
    "\n",
    "print(f\"Precision: {precision}\")\n",
    "print(f\"Recall: {recall}\")\n",
    "print(f\"F1 Score: {f1}\")\n"
   ]
  },
  {
   "cell_type": "code",
   "execution_count": 14,
   "id": "e37934ba",
   "metadata": {},
   "outputs": [
    {
     "name": "stdout",
     "output_type": "stream",
     "text": [
      "157/157 [==============================] - 0s 2ms/step\n"
     ]
    },
    {
     "data": {
      "image/png": "[encoded data removed]",
      "text/plain": [
       "<Figure size 640x480 with 1 Axes>"
      ]
     },
     "metadata": {},
     "output_type": "display_data"
    }
   ],
   "source": [
    "import matplotlib.pyplot as plt\n",
    "from sklearn.metrics import roc_curve, auc\n",
    "\n",
    "# Predict probabilities for the validation set\n",
    "y_pred_proba = model.predict(validation_data_combined).ravel()  # Flatten to 1D\n",
    "\n",
    "# Compute ROC curve and ROC area\n",
    "fpr, tpr, _ = roc_curve(binary_validation_labels, y_pred_proba)  # Use binary_validation_labels directly\n",
    "roc_auc = auc(fpr, tpr)\n",
    "\n",
    "# Plot ROC curve\n",
    "plt.figure()\n",
    "plt.plot(fpr, tpr, color='darkorange', lw=2, label='ROC curve (area = %0.2f)' % roc_auc)\n",
    "plt.plot([0, 1], [0, 1], color='navy', lw=2, linestyle='--')\n",
    "plt.xlim([0.0, 1.0])\n",
    "plt.ylim([0.0, 1.05])\n",
    "plt.xlabel('False Positive Rate')\n",
    "plt.ylabel('True Positive Rate')\n",
    "plt.title('Receiver Operating Characteristic (ROC) Curve')\n",
    "plt.legend(loc='lower right')\n",
    "plt.show()\n"
   ]
  },
  {
   "cell_type": "code",
   "execution_count": 117,
   "id": "c381d56e",
   "metadata": {},
   "outputs": [
    {
     "name": "stdout",
     "output_type": "stream",
     "text": [
      "157/157 [==============================] - 0s 2ms/step\n"
     ]
    },
    {
     "data": {
      "image/png": "[encoded data removed]",
      "text/plain": [
       "<Figure size 800x600 with 1 Axes>"
      ]
     },
     "metadata": {},
     "output_type": "display_data"
    }
   ],
   "source": [
    "from sklearn.metrics import confusion_matrix\n",
    "import seaborn as sns\n",
    "import matplotlib.pyplot as plt\n",
    "\n",
    "# Predict probabilities for the validation set\n",
    "y_pred_probs = model.predict(validation_data_combined)\n",
    "\n",
    "# Convert probabilities to binary predictions based on a 0.5 threshold\n",
    "y_pred_classes = (y_pred_probs > 0.5).astype(int).flatten()\n",
    "\n",
    "# Assuming binary_validation_labels are already in binary format (0 or 1)\n",
    "y_true = binary_validation_labels\n",
    "\n",
    "# Compute confusion matrix\n",
    "conf_matrix = confusion_matrix(y_true, y_pred_classes)\n",
    "\n",
    "# Normalize the confusion matrix\n",
    "conf_matrix_normalized = conf_matrix.astype('float') / conf_matrix.sum(axis=1)[:, np.newaxis]\n",
    "\n",
    "# Plot normalized confusion matrix\n",
    "plt.figure(figsize=(8, 6))\n",
    "sns.heatmap(conf_matrix_normalized, annot=True, fmt='.2f', cmap='Blues', cbar=False,\n",
    "            xticklabels=['Class 0', 'Class 1'], yticklabels=['Class 0', 'Class 1'])\n",
    "plt.xlabel('Predicted Label')\n",
    "plt.ylabel('True Label')\n",
    "plt.title('Normalized Confusion Matrix')\n",
    "plt.show()\n"
   ]
  }
 ],
 "metadata": {
  "kernelspec": {
   "display_name": "Python 3 (ipykernel)",
   "language": "python",
   "name": "python3"
  },
  "language_info": {
   "codemirror_mode": {
    "name": "ipython",
    "version": 3
   },
   "file_extension": ".py",
   "mimetype": "text/x-python",
   "name": "python",
   "nbconvert_exporter": "python",
   "pygments_lexer": "ipython3",
   "version": "3.11.7"
  }
 },
 "nbformat": 4,
 "nbformat_minor": 5
}
