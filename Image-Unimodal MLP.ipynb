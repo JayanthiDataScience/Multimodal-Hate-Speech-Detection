{
 "cells": [
  {
   "cell_type": "code",
   "execution_count": 1,
   "id": "d7f466e0",
   "metadata": {},
   "outputs": [
    {
     "name": "stdout",
     "output_type": "stream",
     "text": [
      "Training features shape: (134823, 2048)\n"
     ]
    }
   ],
   "source": [
    "import numpy as np\n",
    "\n",
    "# Paths to the .npy files\n",
    "training_features_path = r\"C:\\Users\\ASUS\\Desktop\\Project\\Features\\train_features_combined (1).npy\"\n",
    "training_labels_path = r\"C:\\Users\\ASUS\\Desktop\\Project\\Features\\train_labels_combined.npy\"\n",
    "validation_features_path = r\"C:\\Users\\ASUS\\Desktop\\Project\\Features\\val_features_combined.npy\"\n",
    "validation_labels_path = r\"C:\\Users\\ASUS\\Desktop\\Project\\Features\\val_labels_combined.npy\"\n",
    "\n",
    "# Loading the training features and labels\n",
    "training_features = np.load(training_features_path)\n",
    "training_labels = np.load(training_labels_path)\n",
    "\n",
    "# Loading the validation features and labels\n",
    "validation_features = np.load(validation_features_path)\n",
    "validation_labels = np.load(validation_labels_path)\n",
    "\n",
    "# Print out the shapes to confirm\n",
    "print(f\"Training features shape: {training_features.shape}\")\n"
   ]
  },
  {
   "cell_type": "code",
   "execution_count": 7,
   "id": "3b23a879",
   "metadata": {},
   "outputs": [
    {
     "data": {
      "text/plain": [
       "array([[0.11895339, 0.59216315, 0.24101752, ..., 0.03185902, 0.06923218,\n",
       "        0.30530372],\n",
       "       [0.12918943, 0.01007799, 0.8963649 , ..., 0.6081784 , 0.03992908,\n",
       "        0.5941267 ],\n",
       "       [0.2874102 , 0.25965416, 0.2726573 , ..., 0.47250623, 0.15790576,\n",
       "        1.099446  ],\n",
       "       ...,\n",
       "       [0.56224006, 0.5510011 , 0.2890889 , ..., 0.5714624 , 0.18647261,\n",
       "        0.13953829],\n",
       "       [0.5049945 , 0.32157093, 0.1149824 , ..., 0.10408802, 0.4743373 ,\n",
       "        0.30696803],\n",
       "       [0.8477429 , 0.24703696, 1.0683957 , ..., 0.37135956, 1.0862874 ,\n",
       "        0.39525288]], dtype=float32)"
      ]
     },
     "execution_count": 7,
     "metadata": {},
     "output_type": "execute_result"
    }
   ],
   "source": [
    "training_features[:10]"
   ]
  },
  {
   "cell_type": "code",
   "execution_count": 11,
   "id": "fa2d8f3f",
   "metadata": {},
   "outputs": [
    {
     "data": {
      "text/plain": [
       "array([[1., 0., 0., 0., 0., 0.],\n",
       "       [1., 0., 0., 0., 0., 0.],\n",
       "       [1., 0., 0., 0., 0., 0.],\n",
       "       [1., 0., 0., 0., 0., 0.],\n",
       "       [1., 0., 0., 0., 0., 0.],\n",
       "       [1., 0., 0., 0., 0., 0.],\n",
       "       [1., 0., 0., 0., 0., 0.],\n",
       "       [1., 0., 0., 0., 0., 0.],\n",
       "       [1., 0., 0., 0., 0., 0.],\n",
       "       [1., 0., 0., 0., 0., 0.]], dtype=float32)"
      ]
     },
     "execution_count": 11,
     "metadata": {},
     "output_type": "execute_result"
    }
   ],
   "source": [
    "training_labels[:10]"
   ]
  },
  {
   "cell_type": "code",
   "execution_count": 13,
   "id": "0f87baf7",
   "metadata": {},
   "outputs": [
    {
     "name": "stdout",
     "output_type": "stream",
     "text": [
      "Class 0: 105344 samples\n",
      "Class 1: 12070 samples\n",
      "Class 2: 5021 samples\n",
      "Class 3: 4349 samples\n",
      "Class 4: 486 samples\n",
      "Class 5: 7553 samples\n"
     ]
    }
   ],
   "source": [
    "class_counts = np.sum(training_labels, axis=0)\n",
    "\n",
    "# Print the count of samples in each class\n",
    "for class_index, count in enumerate(class_counts):\n",
    "    print(f\"Class {class_index}: {int(count)} samples\")"
   ]
  },
  {
   "cell_type": "code",
   "execution_count": 18,
   "id": "ec187f3c",
   "metadata": {},
   "outputs": [],
   "source": [
    "# Assuming training_labels and validation_labels are in one-hot encoded format\n",
    "\n",
    "# For training labels\n",
    "binary_training_labels = np.argmax(training_labels, axis=1) > 0\n",
    "binary_training_labels = binary_training_labels.astype(int)\n",
    "\n",
    "# For validation labels\n",
    "binary_validation_labels = np.argmax(validation_labels, axis=1) > 0\n",
    "binary_validation_labels = binary_validation_labels.astype(int)\n",
    "\n",
    "# Convert labels back to one-hot encoding for use with categorical_crossentropy\n",
    "binary_training_labels = to_categorical(binary_training_labels, num_classes=2)\n",
    "binary_validation_labels = to_categorical(binary_validation_labels, num_classes=2)\n"
   ]
  },
  {
   "cell_type": "code",
   "execution_count": 19,
   "id": "b8897071",
   "metadata": {},
   "outputs": [
    {
     "name": "stdout",
     "output_type": "stream",
     "text": [
      "Class 0: 105344 samples\n",
      "Class 1: 29479 samples\n"
     ]
    }
   ],
   "source": [
    "class_counts = np.sum(binary_training_labels, axis=0)\n",
    "\n",
    "# Print the count of samples in each class\n",
    "for class_index, count in enumerate(class_counts):\n",
    "    print(f\"Class {class_index}: {int(count)} samples\")"
   ]
  },
  {
   "cell_type": "code",
   "execution_count": 4,
   "id": "9ca7b981",
   "metadata": {},
   "outputs": [
    {
     "name": "stdout",
     "output_type": "stream",
     "text": [
      "Requirement already satisfied: scikit-learn in c:\\users\\asus\\anaconda3\\lib\\site-packages (1.3.0)\n",
      "Collecting scikit-learn\n",
      "  Obtaining dependency information for scikit-learn from https://files.pythonhosted.org/packages/7b/0e/25d6b5678ed3c7e12bc94d047d0e9492e89cc78b7ea0034ac0f1cf2ff304/scikit_learn-1.4.1.post1-cp311-cp311-win_amd64.whl.metadata\n",
      "  Downloading scikit_learn-1.4.1.post1-cp311-cp311-win_amd64.whl.metadata (11 kB)\n",
      "Requirement already satisfied: imbalanced-learn in c:\\users\\asus\\anaconda3\\lib\\site-packages (0.10.1)\n",
      "Collecting imbalanced-learn\n",
      "  Obtaining dependency information for imbalanced-learn from https://files.pythonhosted.org/packages/6e/1b/66764ecf370e797759be06fb38c11640ea1f9456ae10f8640a33cfa726ea/imbalanced_learn-0.12.2-py3-none-any.whl.metadata\n",
      "  Downloading imbalanced_learn-0.12.2-py3-none-any.whl.metadata (8.2 kB)\n",
      "Requirement already satisfied: numpy<2.0,>=1.19.5 in c:\\users\\asus\\anaconda3\\lib\\site-packages (from scikit-learn) (1.24.3)\n",
      "Requirement already satisfied: scipy>=1.6.0 in c:\\users\\asus\\anaconda3\\lib\\site-packages (from scikit-learn) (1.11.1)\n",
      "Requirement already satisfied: joblib>=1.2.0 in c:\\users\\asus\\anaconda3\\lib\\site-packages (from scikit-learn) (1.2.0)\n",
      "Requirement already satisfied: threadpoolctl>=2.0.0 in c:\\users\\asus\\anaconda3\\lib\\site-packages (from scikit-learn) (2.2.0)\n",
      "Downloading scikit_learn-1.4.1.post1-cp311-cp311-win_amd64.whl (10.6 MB)\n",
      "   ---------------------------------------- 0.0/10.6 MB ? eta -:--:--\n",
      "   ---------------------------------------- 0.1/10.6 MB 2.6 MB/s eta 0:00:05\n",
      "   -- ------------------------------------- 0.6/10.6 MB 7.5 MB/s eta 0:00:02\n",
      "   --- ------------------------------------ 1.1/10.6 MB 9.5 MB/s eta 0:00:02\n",
      "   ----- ---------------------------------- 1.5/10.6 MB 9.8 MB/s eta 0:00:01\n",
      "   ------- -------------------------------- 2.0/10.6 MB 9.9 MB/s eta 0:00:01\n",
      "   --------- ------------------------------ 2.6/10.6 MB 10.4 MB/s eta 0:00:01\n",
      "   ----------- ---------------------------- 3.1/10.6 MB 10.5 MB/s eta 0:00:01\n",
      "   ------------- -------------------------- 3.6/10.6 MB 10.8 MB/s eta 0:00:01\n",
      "   --------------- ------------------------ 4.0/10.6 MB 11.2 MB/s eta 0:00:01\n",
      "   ---------------- ----------------------- 4.4/10.6 MB 11.1 MB/s eta 0:00:01\n",
      "   ----------------- ---------------------- 4.8/10.6 MB 10.2 MB/s eta 0:00:01\n",
      "   -------------------- ------------------- 5.4/10.6 MB 10.4 MB/s eta 0:00:01\n",
      "   ---------------------- ----------------- 5.9/10.6 MB 10.4 MB/s eta 0:00:01\n",
      "   ----------------------- ---------------- 6.3/10.6 MB 10.3 MB/s eta 0:00:01\n",
      "   ------------------------- -------------- 6.8/10.6 MB 10.4 MB/s eta 0:00:01\n",
      "   --------------------------- ------------ 7.4/10.6 MB 10.5 MB/s eta 0:00:01\n",
      "   ----------------------------- ---------- 7.9/10.6 MB 10.5 MB/s eta 0:00:01\n",
      "   ------------------------------- -------- 8.3/10.6 MB 10.4 MB/s eta 0:00:01\n",
      "   --------------------------------- ------ 8.8/10.6 MB 10.6 MB/s eta 0:00:01\n",
      "   ---------------------------------- ----- 9.3/10.6 MB 10.6 MB/s eta 0:00:01\n",
      "   ------------------------------------ --- 9.8/10.6 MB 10.6 MB/s eta 0:00:01\n",
      "   -------------------------------------- - 10.3/10.6 MB 10.9 MB/s eta 0:00:01\n",
      "   ---------------------------------------  10.6/10.6 MB 10.9 MB/s eta 0:00:01\n",
      "   ---------------------------------------  10.6/10.6 MB 10.9 MB/s eta 0:00:01\n",
      "   ---------------------------------------- 10.6/10.6 MB 10.4 MB/s eta 0:00:00\n",
      "Downloading imbalanced_learn-0.12.2-py3-none-any.whl (257 kB)\n",
      "   ---------------------------------------- 0.0/258.0 kB ? eta -:--:--\n",
      "   ---------------------------------------- 258.0/258.0 kB 8.0 MB/s eta 0:00:00\n",
      "Installing collected packages: scikit-learn, imbalanced-learn\n",
      "  Attempting uninstall: scikit-learn\n",
      "    Found existing installation: scikit-learn 1.3.0\n",
      "    Uninstalling scikit-learn-1.3.0:\n",
      "      Successfully uninstalled scikit-learn-1.3.0\n",
      "  Attempting uninstall: imbalanced-learn\n",
      "    Found existing installation: imbalanced-learn 0.10.1\n",
      "    Uninstalling imbalanced-learn-0.10.1:\n",
      "      Successfully uninstalled imbalanced-learn-0.10.1\n",
      "Successfully installed imbalanced-learn-0.12.2 scikit-learn-1.4.1.post1\n",
      "Note: you may need to restart the kernel to use updated packages.\n"
     ]
    }
   ],
   "source": [
    "pip install -U scikit-learn imbalanced-learn"
   ]
  },
  {
   "cell_type": "code",
   "execution_count": 6,
   "id": "c0bc15a2",
   "metadata": {},
   "outputs": [
    {
     "name": "stdout",
     "output_type": "stream",
     "text": [
      "Training Class 0.0: 674115 samples\n",
      "Training Class 1.0: 134823 samples\n",
      "Validation Class 0.0: 25000 samples\n",
      "Validation Class 1.0: 5000 samples\n"
     ]
    }
   ],
   "source": [
    "import numpy as np\n",
    "\n",
    "# Count the number of samples in each class for the training set\n",
    "unique_classes_training, counts_training = np.unique(training_labels, return_counts=True)\n",
    "for class_label, count in zip(unique_classes_training, counts_training):\n",
    "    print(f\"Training Class {class_label}: {count} samples\")\n",
    "\n",
    "# Count the number of samples in each class for the validation set\n",
    "unique_classes_validation, counts_validation = np.unique(validation_labels, return_counts=True)\n",
    "for class_label, count in zip(unique_classes_validation, counts_validation):\n",
    "    print(f\"Validation Class {class_label}: {count} samples\")\n"
   ]
  },
  {
   "cell_type": "code",
   "execution_count": 21,
   "id": "77230e04",
   "metadata": {},
   "outputs": [
    {
     "name": "stdout",
     "output_type": "stream",
     "text": [
      "Epoch 1/30\n",
      "2107/2107 [==============================] - 33s 15ms/step - loss: 1.2069 - accuracy: 0.5314 - auc: 0.5381 - val_loss: 0.7841 - val_accuracy: 0.5148 - val_auc: 0.5229 - lr: 0.0010\n",
      "Epoch 2/30\n",
      "2107/2107 [==============================] - 32s 15ms/step - loss: 0.7778 - accuracy: 0.5364 - auc: 0.5440 - val_loss: 0.7728 - val_accuracy: 0.5204 - val_auc: 0.5231 - lr: 0.0010\n",
      "Epoch 3/30\n",
      "2107/2107 [==============================] - 31s 15ms/step - loss: 0.7674 - accuracy: 0.5437 - auc: 0.5522 - val_loss: 0.7630 - val_accuracy: 0.5044 - val_auc: 0.5152 - lr: 0.0010\n",
      "Epoch 4/30\n",
      "2107/2107 [==============================] - 31s 15ms/step - loss: 0.7550 - accuracy: 0.5471 - auc: 0.5553 - val_loss: 0.7505 - val_accuracy: 0.5252 - val_auc: 0.5421 - lr: 0.0010\n",
      "Epoch 5/30\n",
      "2107/2107 [==============================] - 32s 15ms/step - loss: 0.7440 - accuracy: 0.5480 - auc: 0.5580 - val_loss: 0.7385 - val_accuracy: 0.5444 - val_auc: 0.5716 - lr: 0.0010\n",
      "Epoch 6/30\n",
      "2107/2107 [==============================] - 33s 16ms/step - loss: 0.7384 - accuracy: 0.5580 - auc: 0.5682 - val_loss: 0.7348 - val_accuracy: 0.5286 - val_auc: 0.5444 - lr: 0.0010\n",
      "Epoch 7/30\n",
      "2107/2107 [==============================] - 33s 16ms/step - loss: 0.7287 - accuracy: 0.5606 - auc: 0.5710 - val_loss: 0.7238 - val_accuracy: 0.5348 - val_auc: 0.5460 - lr: 0.0010\n",
      "Epoch 8/30\n",
      "2107/2107 [==============================] - 33s 16ms/step - loss: 0.7193 - accuracy: 0.5628 - auc: 0.5744 - val_loss: 0.7239 - val_accuracy: 0.5150 - val_auc: 0.5381 - lr: 0.0010\n",
      "Epoch 9/30\n",
      "2107/2107 [==============================] - 33s 16ms/step - loss: 0.7137 - accuracy: 0.5746 - auc: 0.5806 - val_loss: 0.7107 - val_accuracy: 0.5438 - val_auc: 0.5675 - lr: 0.0010\n",
      "Epoch 10/30\n",
      "2107/2107 [==============================] - 33s 16ms/step - loss: 0.7120 - accuracy: 0.5694 - auc: 0.5793 - val_loss: 0.7092 - val_accuracy: 0.5392 - val_auc: 0.5563 - lr: 0.0010\n",
      "Epoch 11/30\n",
      "2107/2107 [==============================] - 33s 16ms/step - loss: 0.7090 - accuracy: 0.5770 - auc: 0.5845 - val_loss: 0.7092 - val_accuracy: 0.5358 - val_auc: 0.5519 - lr: 0.0010\n",
      "Epoch 12/30\n",
      "2107/2107 [==============================] - 33s 16ms/step - loss: 0.7088 - accuracy: 0.5855 - auc: 0.5932 - val_loss: 0.7140 - val_accuracy: 0.5124 - val_auc: 0.5341 - lr: 0.0010\n",
      "Epoch 13/30\n",
      "2107/2107 [==============================] - 33s 16ms/step - loss: 0.7069 - accuracy: 0.5807 - auc: 0.5907 - val_loss: 0.7068 - val_accuracy: 0.5358 - val_auc: 0.5567 - lr: 0.0010\n",
      "Epoch 14/30\n",
      "2107/2107 [==============================] - 33s 16ms/step - loss: 0.7059 - accuracy: 0.5738 - auc: 0.5821 - val_loss: 0.7069 - val_accuracy: 0.5300 - val_auc: 0.5491 - lr: 0.0010\n",
      "Epoch 15/30\n",
      "2107/2107 [==============================] - 33s 15ms/step - loss: 0.7059 - accuracy: 0.5732 - auc: 0.5820 - val_loss: 0.7032 - val_accuracy: 0.5512 - val_auc: 0.5707 - lr: 0.0010\n",
      "Epoch 16/30\n",
      "2107/2107 [==============================] - 32s 15ms/step - loss: 0.7071 - accuracy: 0.5655 - auc: 0.5767 - val_loss: 0.7035 - val_accuracy: 0.5496 - val_auc: 0.5744 - lr: 0.0010\n",
      "Epoch 17/30\n",
      "2107/2107 [==============================] - 32s 15ms/step - loss: 0.7068 - accuracy: 0.5672 - auc: 0.5783 - val_loss: 0.7080 - val_accuracy: 0.5176 - val_auc: 0.5364 - lr: 0.0010\n",
      "Epoch 18/30\n",
      "2107/2107 [==============================] - 33s 16ms/step - loss: 0.7066 - accuracy: 0.5653 - auc: 0.5780 - val_loss: 0.7533 - val_accuracy: 0.5010 - val_auc: 0.5260 - lr: 0.0010\n",
      "Epoch 19/30\n",
      "2107/2107 [==============================] - 33s 16ms/step - loss: 0.7061 - accuracy: 0.5682 - auc: 0.5779 - val_loss: 0.7047 - val_accuracy: 0.5440 - val_auc: 0.5642 - lr: 0.0010\n",
      "Epoch 20/30\n",
      "2107/2107 [==============================] - 32s 15ms/step - loss: 0.7051 - accuracy: 0.5697 - auc: 0.5798 - val_loss: 0.7051 - val_accuracy: 0.5426 - val_auc: 0.5673 - lr: 0.0010\n",
      "Epoch 21/30\n",
      "2107/2107 [==============================] - 32s 15ms/step - loss: 0.6948 - accuracy: 0.5923 - auc: 0.6073 - val_loss: 0.6908 - val_accuracy: 0.5590 - val_auc: 0.5823 - lr: 2.0000e-04\n",
      "Epoch 22/30\n",
      "2107/2107 [==============================] - 33s 16ms/step - loss: 0.6905 - accuracy: 0.5876 - auc: 0.6005 - val_loss: 0.6893 - val_accuracy: 0.5648 - val_auc: 0.5868 - lr: 2.0000e-04\n",
      "Epoch 23/30\n",
      "2107/2107 [==============================] - 34s 16ms/step - loss: 0.6889 - accuracy: 0.5938 - auc: 0.6075 - val_loss: 0.6877 - val_accuracy: 0.5662 - val_auc: 0.5887 - lr: 2.0000e-04\n",
      "Epoch 24/30\n",
      "2107/2107 [==============================] - 35s 17ms/step - loss: 0.6885 - accuracy: 0.5934 - auc: 0.6086 - val_loss: 0.6938 - val_accuracy: 0.5456 - val_auc: 0.5680 - lr: 2.0000e-04\n",
      "Epoch 25/30\n",
      "2107/2107 [==============================] - 35s 17ms/step - loss: 0.6883 - accuracy: 0.5882 - auc: 0.6065 - val_loss: 0.6907 - val_accuracy: 0.5506 - val_auc: 0.5758 - lr: 2.0000e-04\n",
      "Epoch 26/30\n",
      "2107/2107 [==============================] - 35s 17ms/step - loss: 0.6892 - accuracy: 0.5837 - auc: 0.6039 - val_loss: 0.6916 - val_accuracy: 0.5592 - val_auc: 0.5748 - lr: 2.0000e-04\n",
      "Epoch 27/30\n",
      "2107/2107 [==============================] - 35s 17ms/step - loss: 0.6892 - accuracy: 0.5876 - auc: 0.6055 - val_loss: 0.6914 - val_accuracy: 0.5546 - val_auc: 0.5751 - lr: 2.0000e-04\n",
      "Epoch 28/30\n",
      "2107/2107 [==============================] - 33s 16ms/step - loss: 0.6891 - accuracy: 0.5854 - auc: 0.6038 - val_loss: 0.6903 - val_accuracy: 0.5604 - val_auc: 0.5807 - lr: 2.0000e-04\n",
      "Epoch 29/30\n",
      "2107/2107 [==============================] - 35s 16ms/step - loss: 0.6859 - accuracy: 0.5920 - auc: 0.6103 - val_loss: 0.6881 - val_accuracy: 0.5630 - val_auc: 0.5841 - lr: 1.0000e-04\n",
      "Epoch 30/30\n",
      "2107/2107 [==============================] - 34s 16ms/step - loss: 0.6843 - accuracy: 0.5900 - auc: 0.6133 - val_loss: 0.6866 - val_accuracy: 0.5608 - val_auc: 0.5869 - lr: 1.0000e-04\n"
     ]
    }
   ],
   "source": [
    "from tensorflow.keras.models import Sequential\n",
    "from tensorflow.keras.layers import Dense, BatchNormalization, Activation, Dropout\n",
    "from tensorflow.keras.optimizers import Adam\n",
    "from tensorflow.keras.metrics import AUC\n",
    "from tensorflow.keras.callbacks import EarlyStopping, ReduceLROnPlateau\n",
    "from tensorflow.keras.regularizers import l2\n",
    "from tensorflow.keras.utils import to_categorical\n",
    "import numpy as np\n",
    "from sklearn.utils.class_weight import compute_class_weight\n",
    "\n",
    "# Assuming training_features, training_labels, validation_features, and validation_labels are already loaded\n",
    "\n",
    "# Convert multi-class labels to binary classification format\n",
    "binary_training_labels = np.argmax(training_labels, axis=1) > 0\n",
    "binary_training_labels = binary_training_labels.astype(int)\n",
    "binary_validation_labels = np.argmax(validation_labels, axis=1) > 0\n",
    "binary_validation_labels = binary_validation_labels.astype(int)\n",
    "\n",
    "# Convert binary labels back to one-hot encoding\n",
    "binary_training_labels = to_categorical(binary_training_labels, num_classes=2)\n",
    "binary_validation_labels = to_categorical(binary_validation_labels, num_classes=2)\n",
    "\n",
    "# Define the MLP model for binary classification\n",
    "model = Sequential([\n",
    "    Dense(1024, input_shape=(2048,), activation='relu', kernel_regularizer=l2(0.001)),\n",
    "    BatchNormalization(),\n",
    "    Dropout(0.5),\n",
    "    Dense(512, activation='relu', kernel_regularizer=l2(0.001)),\n",
    "    BatchNormalization(),\n",
    "    Dropout(0.5),\n",
    "    Dense(2, activation='softmax')  \n",
    "])\n",
    "\n",
    "# Compile the model\n",
    "model.compile(optimizer=Adam(learning_rate=0.001),\n",
    "              loss='binary_crossentropy',  # Adjusted for binary classification\n",
    "              metrics=['accuracy', AUC(name='auc')])\n",
    "\n",
    "# Compute class weights for binary classification\n",
    "class_weights = compute_class_weight(\n",
    "    class_weight='balanced',\n",
    "    classes=np.unique(np.argmax(binary_training_labels, axis=1)),\n",
    "    y=np.argmax(binary_training_labels, axis=1)\n",
    ")\n",
    "class_weight_dict = dict(enumerate(class_weights))\n",
    "\n",
    "# Callbacks\n",
    "early_stopping = EarlyStopping(\n",
    "    monitor='val_loss',\n",
    "    patience=10,\n",
    "    restore_best_weights=True\n",
    ")\n",
    "\n",
    "reduce_lr = ReduceLROnPlateau(\n",
    "    monitor='val_loss',\n",
    "    factor=0.2,\n",
    "    patience=5,\n",
    "    min_lr=0.0001\n",
    ")\n",
    "\n",
    "\n",
    "\n",
    "# Train the model with binary labels\n",
    "history = model.fit(\n",
    "    training_features, \n",
    "    binary_training_labels,\n",
    "    validation_data=(validation_features, binary_validation_labels),\n",
    "    epochs=30,  \n",
    "    batch_size=64,  \n",
    "    callbacks=[early_stopping, reduce_lr],\n",
    "    class_weight=class_weight_dict  \n",
    ")\n"
   ]
  },
  {
   "cell_type": "code",
   "execution_count": 27,
   "id": "988f9570",
   "metadata": {},
   "outputs": [
    {
     "name": "stdout",
     "output_type": "stream",
     "text": [
      "157/157 [==============================] - 0s 2ms/step\n"
     ]
    },
    {
     "data": {
      "image/png": "[encoded data removed]",
      "text/plain": [
       "<Figure size 640x480 with 1 Axes>"
      ]
     },
     "metadata": {},
     "output_type": "display_data"
    },
    {
     "data": {
      "image/png": "[encoded data removed]",
      "text/plain": [
       "<Figure size 640x480 with 2 Axes>"
      ]
     },
     "metadata": {},
     "output_type": "display_data"
    },
    {
     "name": "stdout",
     "output_type": "stream",
     "text": [
      "Confusion Matrix:\n",
      " [[1588  912]\n",
      " [1284 1216]]\n"
     ]
    }
   ],
   "source": [
    "from sklearn.metrics import roc_curve, auc, confusion_matrix\n",
    "import matplotlib.pyplot as plt\n",
    "\n",
    "# Predict probabilities for the validation set\n",
    "predictions = model.predict(validation_features)\n",
    "\n",
    "# For ROC Curve and AUC, we use the probabilities of the positive class (class 1 - \"hate speech\")\n",
    "y_pred_proba = predictions[:, 1]\n",
    "\n",
    "# Actual validation labels (binary format)\n",
    "y_true = np.argmax(binary_validation_labels, axis=1)\n",
    "\n",
    "# Calculate ROC Curve and AUC\n",
    "fpr, tpr, thresholds = roc_curve(y_true, y_pred_proba)\n",
    "roc_auc = auc(fpr, tpr)\n",
    "\n",
    "# Plot ROC Curve\n",
    "plt.figure()\n",
    "plt.plot(fpr, tpr, color='darkorange', lw=2, label='ROC curve (area = %0.2f)' % roc_auc)\n",
    "plt.plot([0, 1], [0, 1], color='navy', lw=2, linestyle='--')\n",
    "plt.xlim([0.0, 1.0])\n",
    "plt.ylim([0.0, 1.05])\n",
    "plt.xlabel('False Positive Rate')\n",
    "plt.ylabel('True Positive Rate')\n",
    "plt.title('Receiver Operating Characteristic')\n",
    "plt.legend(loc=\"lower right\")\n",
    "plt.show()\n",
    "\n",
    "# Predict classes (instead of probabilities)\n",
    "y_pred_classes = np.argmax(predictions, axis=1)\n",
    "\n",
    "# Generate Confusion Matrix\n",
    "cm = confusion_matrix(y_true, y_pred_classes)\n",
    "\n",
    "# Plot Confusion Matrix\n",
    "fig, ax = plt.subplots()\n",
    "cax = ax.matshow(cm, cmap=plt.cm.Blues)\n",
    "fig.colorbar(cax)\n",
    "plt.xlabel('Predicted')\n",
    "plt.ylabel('True')\n",
    "plt.title('Confusion Matrix')\n",
    "plt.show()\n",
    "\n",
    "# Printing the confusion matrix\n",
    "print(\"Confusion Matrix:\\n\", cm)\n"
   ]
  },
  {
   "cell_type": "code",
   "execution_count": 28,
   "id": "b6d9e41c",
   "metadata": {},
   "outputs": [
    {
     "data": {
      "image/png": "[encoded data removed]",
      "text/plain": [
       "<Figure size 800x600 with 2 Axes>"
      ]
     },
     "metadata": {},
     "output_type": "display_data"
    }
   ],
   "source": [
    "from sklearn.metrics import roc_curve, auc, confusion_matrix\n",
    "import matplotlib.pyplot as plt\n",
    "import numpy as np\n",
    "\n",
    "def plot_confusion_matrix(cm, classes, title='Confusion Matrix', cmap=plt.cm.Blues):\n",
    "    \"\"\"\n",
    "    This function prints and plots the confusion matrix.\n",
    "    Normalization can be applied by setting `normalize=True`.\n",
    "    \"\"\"\n",
    "    cm_normalized = cm.astype('float') / cm.sum(axis=1)[:, np.newaxis]  # Normalize the confusion matrix\n",
    "    plt.imshow(cm_normalized, interpolation='nearest', cmap=cmap)\n",
    "    plt.title(title)\n",
    "    plt.colorbar()\n",
    "    tick_marks = np.arange(len(classes))\n",
    "    plt.xticks(tick_marks, classes, rotation=45)\n",
    "    plt.yticks(tick_marks, classes)\n",
    "\n",
    "    # Loop over data dimensions and create text annotations.\n",
    "    fmt = '.2f'\n",
    "    thresh = cm_normalized.max() / 2.\n",
    "    for i, j in itertools.product(range(cm_normalized.shape[0]), range(cm_normalized.shape[1])):\n",
    "        plt.text(j, i, format(cm_normalized[i, j], fmt) if cm_normalized[i, j] != 0 else '0',\n",
    "                 horizontalalignment=\"center\",\n",
    "                 color=\"white\" if cm_normalized[i, j] > thresh else \"black\")\n",
    "\n",
    "    plt.ylabel('True label')\n",
    "    plt.xlabel('Predicted label')\n",
    "    plt.tight_layout()\n",
    "\n",
    "# Generate normalized Confusion Matrix\n",
    "cm = confusion_matrix(y_true, y_pred_classes)\n",
    "class_names = ['Non-Hate Speech', 'Hate Speech'] \n",
    "\n",
    "# Plot normalized Confusion Matrix\n",
    "plt.figure(figsize=(8, 6))\n",
    "plot_confusion_matrix(cm, classes=class_names, title='Normalized Confusion Matrix')\n",
    "plt.show()\n"
   ]
  },
  {
   "cell_type": "code",
   "execution_count": 29,
   "id": "bd45e710",
   "metadata": {},
   "outputs": [
    {
     "name": "stdout",
     "output_type": "stream",
     "text": [
      "Accuracy: 0.5608\n",
      "Precision: 0.5714\n",
      "Recall: 0.4864\n",
      "F1 Score: 0.5255\n"
     ]
    }
   ],
   "source": [
    "from sklearn.metrics import accuracy_score, precision_recall_fscore_support\n",
    "\n",
    "# Calculate accuracy\n",
    "accuracy = accuracy_score(y_true, y_pred_classes)\n",
    "print(f\"Accuracy: {accuracy:.4f}\")\n",
    "\n",
    "# Calculate precision, recall, and F1 score\n",
    "precision, recall, f1, _ = precision_recall_fscore_support(y_true, y_pred_classes, average='binary')\n",
    "\n",
    "print(f\"Precision: {precision:.4f}\")\n",
    "print(f\"Recall: {recall:.4f}\")\n",
    "print(f\"F1 Score: {f1:.4f}\")\n"
   ]
  },
  {
   "cell_type": "code",
   "execution_count": null,
   "id": "f15bd22b",
   "metadata": {},
   "outputs": [],
   "source": []
  },
  {
   "cell_type": "code",
   "execution_count": null,
   "id": "4c7821e8",
   "metadata": {},
   "outputs": [],
   "source": []
  },
  {
   "cell_type": "code",
   "execution_count": null,
   "id": "ff177ea1",
   "metadata": {},
   "outputs": [],
   "source": []
  },
  {
   "cell_type": "code",
   "execution_count": null,
   "id": "cb7da6a9",
   "metadata": {},
   "outputs": [],
   "source": []
  },
  {
   "cell_type": "code",
   "execution_count": null,
   "id": "ddd74658",
   "metadata": {},
   "outputs": [],
   "source": []
  },
  {
   "cell_type": "code",
   "execution_count": null,
   "id": "72ff7874",
   "metadata": {},
   "outputs": [],
   "source": []
  }
 ],
 "metadata": {
  "kernelspec": {
   "display_name": "Python 3 (ipykernel)",
   "language": "python",
   "name": "python3"
  },
  "language_info": {
   "codemirror_mode": {
    "name": "ipython",
    "version": 3
   },
   "file_extension": ".py",
   "mimetype": "text/x-python",
   "name": "python",
   "nbconvert_exporter": "python",
   "pygments_lexer": "ipython3",
   "version": "3.11.7"
  }
 },
 "nbformat": 4,
 "nbformat_minor": 5
}
